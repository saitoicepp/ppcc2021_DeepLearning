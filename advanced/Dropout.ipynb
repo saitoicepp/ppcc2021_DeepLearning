{
 "metadata": {
  "language_info": {
   "codemirror_mode": {
    "name": "ipython",
    "version": 3
   },
   "file_extension": ".py",
   "mimetype": "text/x-python",
   "name": "python",
   "nbconvert_exporter": "python",
   "pygments_lexer": "ipython3",
   "version": "3.8.2"
  },
  "orig_nbformat": 4,
  "kernelspec": {
   "name": "python3",
   "display_name": "Python 3.8.2 64-bit ('env_ml': venv)"
  },
  "interpreter": {
   "hash": "7abbca3dcda626ca09b91bf777664d615a2fbfcbb92dc37a33663654d9bdcdc8"
  }
 },
 "nbformat": 4,
 "nbformat_minor": 2,
 "cells": [
  {
   "source": [
    "# ドロップアウト (Dropout)"
   ],
   "cell_type": "markdown",
   "metadata": {}
  },
  {
   "cell_type": "code",
   "execution_count": null,
   "metadata": {},
   "outputs": [],
   "source": [
    "# Tensorflowが使うCPUの数を制限します。(VMを使う場合)\n",
    "%env OMP_NUM_THREADS=1\n",
    "%env TF_NUM_INTEROP_THREADS=1\n",
    "%env TF_NUM_INTRAOP_THREADS=1\n",
    "\n",
    "from tensorflow.config import threading\n",
    "num_threads = 1\n",
    "threading.set_inter_op_parallelism_threads(num_threads)\n",
    "threading.set_intra_op_parallelism_threads(num_threads)\n",
    "\n",
    "#ライブラリのインポート\n",
    "%matplotlib inline\n",
    "import numpy as np\n",
    "import matplotlib.pyplot as plt"
   ]
  },
  {
   "source": [
    "## 過学習(Overtraining)の例\n",
    "### データ点の生成\n",
    "sin関数に0.2の大きさのノイズが乗ったデータを考えます。データ数は30にします。\n",
    "早期終了の例と同様に、scikit learningの関数を使ってデータをトレーニング用と検証用に分割します。"
   ],
   "cell_type": "markdown",
   "metadata": {}
  },
  {
   "cell_type": "code",
   "execution_count": null,
   "metadata": {},
   "outputs": [],
   "source": [
    "np.random.seed(0)\n",
    "\n",
    "nSample = 30\n",
    "\n",
    "x = np.linspace(-np.pi, np.pi, nSample)\n",
    "t0 = np.sin(x)\n",
    "t = t0 + 0.2 * np.random.randn(nSample)\n",
    "\n",
    "from sklearn.model_selection import train_test_split\n",
    "x_train, x_valid, t_train, t_valid = train_test_split(x, t, test_size=0.2)\n",
    "\n",
    "# For plot\n",
    "x_grid = np.linspace(-np.pi, np.pi, 100)"
   ]
  },
  {
   "source": [
    "### デモに用いる深層学習モデル\n",
    "過学習の様子を見るために、パラメータ数の多いモデルを使ってフィットをしてみます。\n",
    "ここでは、隠れ層が5層、ノード数が128の隠れ層を4層重ねた多層パーセプトロンを使用します。\n",
    "活性化関数としてはReLUを使い、モデルの出力の直前のノードは、活性化関数を使用しないことにします。\n",
    "誤差関数は二乗和誤差を使い、最適化関数としてadamを使用します。"
   ],
   "cell_type": "markdown",
   "metadata": {}
  },
  {
   "cell_type": "code",
   "execution_count": null,
   "metadata": {},
   "outputs": [],
   "source": [
    "# モデルの定義\n",
    "from tensorflow.keras.models import Sequential\n",
    "from tensorflow.keras.layers import Dense\n",
    "model = Sequential([\n",
    "    Dense(128, activation='relu', input_dim=1),  # ノード数が128の層を追加。活性化関数はReLU関数。\n",
    "    Dense(128, activation='relu'),  # ノード数が128の層を追加。活性化関数はReLU関数。\n",
    "    Dense(128, activation='relu'),  # ノード数が128の層を追加。活性化関数はReLU関数。\n",
    "    Dense(128, activation='relu'),  # ノード数が128の層を追加。活性化関数はReLU関数。\n",
    "    Dense(1, activation='linear'),  # ノード数が1の層を追加。活性化関数は線形関数。\n",
    "])\n",
    "\n",
    "model.compile(loss='mean_squared_error', optimizer='adam')\n",
    "\n",
    "#  トレーニング\n",
    "history = model.fit(\n",
    "    x=x_train, \n",
    "    y=t_train,\n",
    "    validation_data=(x_valid, t_valid),\n",
    "    epochs=500,\n",
    "    verbose=0\n",
    ")\n",
    "\n",
    "# ロス関数の推移を取得します\n",
    "loss_train = history.history['loss']\n",
    "loss_valid = history.history['val_loss']\n",
    "\n",
    "# プロット\n",
    "plt.scatter(x_train, t_train, s=10, c='black', label='data')  # データ点のプロット\n",
    "plt.plot(x_grid, model.predict(x_grid), c='red', label='prediction')\n",
    "plt.plot(x_grid, np.sin(x_grid), c='blue', label='y=sin(x)')\n",
    "plt.legend()\n",
    "plt.show()\n",
    "\n",
    "# ロス関数の推移をプロット\n",
    "plt.plot(loss_train, label='loss (train)')\n",
    "plt.plot(loss_valid, label='loss (valid)')\n",
    "plt.legend()\n",
    "plt.show()\n"
   ]
  },
  {
   "source": [
    "## ドロップアウト (Dropout)\n",
    "\n",
    "ドロップアウトは、学習時に、ランダムにノードを消すという操作をすることで、表現能力を抑制する手法です。\n",
    "この操作は、アンサンブル学習を擬似的に行っていると見ることもできます。\n",
    "\n",
    "この操作もKerasの関数を用いることで簡単に実装する事ことができます。\n",
    "\n",
    "https://www.tensorflow.org/api_docs/python/tf/keras/layers/Dropout\n",
    "\n",
    "```python\n",
    "Dropout(rate=0.3)\n",
    "```\n",
    "ここで、消すノードの割合を`rate`で指定します。0だと、ノードは全く消されません。1.0だと、全てのノードが消されます。\n",
    "\n",
    "個々では、MLPの各層の後にドロップアウト層を入れることにします。"
   ],
   "cell_type": "markdown",
   "metadata": {}
  },
  {
   "cell_type": "code",
   "execution_count": null,
   "metadata": {},
   "outputs": [],
   "source": [
    "# モデルの定義\n",
    "from tensorflow.keras.models import Sequential\n",
    "from tensorflow.keras.layers import Dense, Dropout\n",
    "model = Sequential([\n",
    "    Dense(128, activation='relu', input_dim=1),  # ノード数が128の層を追加。活性化関数はReLU関数。\n",
    "    Dropout(rate=0.3),  # 30%の確率でノードの値を0にする。\n",
    "    Dense(128, activation='relu'),  # ノード数が128の層を追加。活性化関数はReLU関数。\n",
    "    Dropout(rate=0.3),  # 30%の確率でノードの値を0にする。\n",
    "    Dense(128, activation='relu'),  # ノード数が128の層を追加。活性化関数はReLU関数。\n",
    "    Dropout(rate=0.3),  # 30%の確率でノードの値を0にする。\n",
    "    Dense(128, activation='relu'),  # ノード数が128の層を追加。活性化関数はReLU関数。\n",
    "    Dropout(rate=0.3),  # 30%の確率でノードの値を0にする。\n",
    "    Dense(1, activation='linear'),  # ノード数が1の層を追加。活性化関数は線形関数。\n",
    "])\n",
    "\n",
    "model.compile(loss='mean_squared_error', optimizer='adam')\n",
    "\n",
    "#  トレーニング\n",
    "history = model.fit(\n",
    "    x=x_train, \n",
    "    y=t_train,\n",
    "    validation_data=(x_valid, t_valid),\n",
    "    epochs=500,\n",
    "    verbose=0\n",
    ")\n",
    "\n",
    "# L2を除いたロス関数の推移を取得します\n",
    "loss_train = history.history['loss']\n",
    "loss_valid = history.history['val_loss']\n",
    "\n",
    "# プロット\n",
    "plt.scatter(x_train, t_train, s=10, c='black', label='data')  # データ点のプロット\n",
    "x_grid = np.linspace(-np.pi, np.pi, 100)\n",
    "plt.plot(x_grid, model.predict(x_grid), c='red', label='prediction')\n",
    "plt.plot(x_grid, np.sin(x_grid), c='blue', label='y=sin(x)')\n",
    "plt.legend()\n",
    "plt.show()\n",
    "\n",
    "# ロス関数の推移をプロット\n",
    "plt.plot(loss_train, label='loss (train)')\n",
    "plt.plot(loss_valid, label='loss (valid)')\n",
    "plt.legend()\n",
    "plt.show()"
   ]
  },
  {
   "source": [
    "トレーニングデータに対する誤差関数が大きくふらついていることがわかります。\n",
    "これは、消されるノードが毎回ランダムに選ばれるためです。\n",
    "一方で、検証用データではばらつきは比較的小さくなっています。\n",
    "これは、Kerasの実装では、検証用データを使ってモデルの予測をする際は、全てのノードを使うようになっているためです。"
   ],
   "cell_type": "markdown",
   "metadata": {}
  },
  {
   "source": [
    "検証用データをドロップアウトの`rate`の値を変えたり、ドロップアウトの位置を変えると、モデルの予測はどのように変化するでしょうか？"
   ],
   "cell_type": "markdown",
   "metadata": {}
  }
 ]
}