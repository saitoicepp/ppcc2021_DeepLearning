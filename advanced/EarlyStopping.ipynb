{
 "metadata": {
  "language_info": {
   "codemirror_mode": {
    "name": "ipython",
    "version": 3
   },
   "file_extension": ".py",
   "mimetype": "text/x-python",
   "name": "python",
   "nbconvert_exporter": "python",
   "pygments_lexer": "ipython3",
   "version": "3.8.2"
  },
  "orig_nbformat": 4,
  "kernelspec": {
   "name": "python3",
   "display_name": "Python 3.8.2 64-bit ('env_ml': venv)"
  },
  "interpreter": {
   "hash": "7abbca3dcda626ca09b91bf777664d615a2fbfcbb92dc37a33663654d9bdcdc8"
  }
 },
 "nbformat": 4,
 "nbformat_minor": 2,
 "cells": [
  {
   "source": [
    "# 早期終了 (Early stopping)"
   ],
   "cell_type": "markdown",
   "metadata": {}
  },
  {
   "cell_type": "code",
   "execution_count": null,
   "metadata": {},
   "outputs": [],
   "source": [
    "# Tensorflowが使うCPUの数を制限します。(VMを使う場合)\n",
    "%env OMP_NUM_THREADS=1\n",
    "%env TF_NUM_INTEROP_THREADS=1\n",
    "%env TF_NUM_INTRAOP_THREADS=1\n",
    "\n",
    "from tensorflow.config import threading\n",
    "num_threads = 1\n",
    "threading.set_inter_op_parallelism_threads(num_threads)\n",
    "threading.set_intra_op_parallelism_threads(num_threads)\n",
    "\n",
    "#ライブラリのインポート\n",
    "%matplotlib inline\n",
    "import numpy as np\n",
    "import matplotlib.pyplot as plt"
   ]
  },
  {
   "source": [
    "## 過学習(Overtraining)の例\n",
    "### データ点の生成\n",
    "sin関数に0.2の大きさのノイズが乗ったデータを考えます。データ数は30にします。"
   ],
   "cell_type": "markdown",
   "metadata": {}
  },
  {
   "cell_type": "code",
   "execution_count": null,
   "metadata": {},
   "outputs": [],
   "source": [
    "np.random.seed(0)\n",
    "\n",
    "nSample = 30\n",
    "\n",
    "x = np.linspace(-np.pi, np.pi, nSample)\n",
    "t0 = np.sin(x)\n",
    "t = t0 + 0.2 * np.random.randn(nSample)\n",
    "\n",
    "# プロット\n",
    "plt.scatter(x, t, s=10, c='black', label='data')  # データ点のプロット\n",
    "x_grid = np.linspace(-np.pi, np.pi, 100)\n",
    "plt.plot(x_grid, np.sin(x_grid), c='blue', label='y=sin(r)')\n",
    "plt.legend()\n",
    "plt.show()"
   ]
  },
  {
   "source": [
    "### デモに用いる深層学習モデル\n",
    "過学習の様子を見るために、パラメータ数の多いモデルを使ってフィットをしてみます。\n",
    "ここでは、隠れ層が5層、ノード数が128の隠れ層を4層重ねた多層パーセプトロンを使用します。\n",
    "活性化関数としてはReLUを使い、モデルの出力の直前のノードは、活性化関数を使用しないことにします。\n",
    "誤差関数は二乗和誤差を使い、最適化関数としてadamを使用します。"
   ],
   "cell_type": "markdown",
   "metadata": {}
  },
  {
   "cell_type": "code",
   "execution_count": null,
   "metadata": {},
   "outputs": [],
   "source": [
    "# モデルの定義\n",
    "from tensorflow.keras.models import Sequential\n",
    "from tensorflow.keras.layers import Dense\n",
    "model = Sequential([\n",
    "    Dense(128, activation='relu', input_dim=1),  # ノード数が128の層を追加。活性化関数はReLU関数。\n",
    "    Dense(128, activation='relu'),  # ノード数が128の層を追加。活性化関数はReLU関数。\n",
    "    Dense(128, activation='relu'),  # ノード数が128の層を追加。活性化関数はReLU関数。\n",
    "    Dense(128, activation='relu'),  # ノード数が128の層を追加。活性化関数はReLU関数。\n",
    "    Dense(1, activation='linear'),  # ノード数が1の層を追加。活性化関数は線形関数。\n",
    "])\n",
    "\n",
    "#　誤差関数として二乗和誤差、最適化関数としてadamを使用\n",
    "model.compile(loss='mean_squared_error', optimizer='adam')\n",
    "\n",
    "#  トレーニング\n",
    "model.fit(\n",
    "    x=x, \n",
    "    y=t,\n",
    "    epochs=1000,\n",
    "    verbose=0\n",
    ")\n",
    "\n",
    "# プロット\n",
    "plt.scatter(x, t, s=10, c='black', label='data')  # データ点のプロット\n",
    "# x_grid = np.linspace(-np.pi, np.pi, 100)\n",
    "plt.plot(x_grid, model.predict(x_grid), c='red', label='prediction')\n",
    "plt.plot(x_grid, np.sin(x_grid), c='blue', label='y=sin(r)')\n",
    "plt.legend()\n",
    "plt.show()\n"
   ]
  },
  {
   "source": [
    "モデルの出力(赤線)がトレーニングデータ点に強くフィットしてしまっていることがわかります。"
   ],
   "cell_type": "markdown",
   "metadata": {}
  },
  {
   "source": [
    "## データの分割\n",
    "Early stoppingでは データセットをランダムに2つに分割します。\n",
    "一方のデータセット(training dataset)でトレーニングをし、もう一方のデータセット(validation dataset)で過学習がおこらないかを確認します。\n",
    "サンプルの分割は手で行うこともできますが、scikit learningというライブラリに便利な関数が用意されているので、これを用いることにします。"
   ],
   "cell_type": "markdown",
   "metadata": {}
  },
  {
   "cell_type": "code",
   "execution_count": null,
   "metadata": {},
   "outputs": [],
   "source": [
    "from sklearn.model_selection import train_test_split\n",
    "x_train, x_valid, t_train, t_valid = train_test_split(x, t, test_size=0.2)"
   ]
  },
  {
   "source": [
    "上の例では、全体の80%をトレーニングデータ、全体の20%を検証用データ(validation sample)として分割しています。\n",
    "\n",
    "検証用データに対して監視をするには、`fit`関数の中で、検証用データを与えます。"
   ],
   "cell_type": "markdown",
   "metadata": {}
  },
  {
   "cell_type": "code",
   "execution_count": null,
   "metadata": {
    "tags": []
   },
   "outputs": [],
   "source": [
    "# モデルの定義\n",
    "from tensorflow.keras.models import Sequential\n",
    "from tensorflow.keras.layers import Dense\n",
    "model = Sequential([\n",
    "    Dense(128, activation='relu', input_dim=1),  # ノード数が64の層を追加。活性化関数はReLU関数。\n",
    "    Dense(128, activation='relu'),  # ノード数が64の層を追加。活性化関数はReLU関数。\n",
    "    Dense(128, activation='relu'),  # ノード数が64の層を追加。活性化関数はReLU関数。\n",
    "    Dense(128, activation='relu'),  # ノード数が64の層を追加。活性化関数はReLU関数。\n",
    "    Dense(1, activation='linear'),  # ノード数が1の層を追加。活性化関数は線形関数。\n",
    "])\n",
    "\n",
    "model.compile(loss='mean_squared_error', optimizer='adam')\n",
    "\n",
    "# トレーニング\n",
    "history = model.fit(\n",
    "    x=x_train,\n",
    "    y=t_train,\n",
    "    validation_data=(x_valid, t_valid),\n",
    "    epochs=300,\n",
    "    verbose=0\n",
    ")\n",
    "\n",
    "# ロス関数の推移を取得します\n",
    "loss_train = history.history['loss']\n",
    "loss_valid = history.history['val_loss']\n"
   ]
  },
  {
   "source": [
    "結果をプロットしてみます。"
   ],
   "cell_type": "markdown",
   "metadata": {}
  },
  {
   "cell_type": "code",
   "execution_count": null,
   "metadata": {},
   "outputs": [],
   "source": [
    "# データ点とモデル予測値のプロット\n",
    "plt.scatter(x_train, t_train, s=10, c='black', label='training data')  # データ点のプロット\n",
    "plt.scatter(x_valid, t_valid, s=10, c='gray', label='validation data')  # データ点のプロット\n",
    "plt.plot(x_grid, model.predict(x_grid), c='red', label='prediction')\n",
    "plt.plot(x_grid, np.sin(x_grid), c='blue', label='y=sin(x)')\n",
    "plt.legend()\n",
    "plt.show()\n",
    "\n",
    "# ロス関数の推移をプロット\n",
    "plt.plot(loss_train, label='loss (train)')\n",
    "plt.plot(loss_valid, label='loss (valid)')\n",
    "plt.legend()\n",
    "plt.show()"
   ]
  },
  {
   "source": [
    "学習に使った黒点に沿うようにモデルがフィットされていることがわかります。\n",
    "一方で、検証用の点(灰色の点)に対しての予測値は大きくずれてしまっています。\n",
    "\n",
    "誤差関数の値(loos)の推移を見ると、epoch数が およそ100 あたりで、検証用データの誤差関数の値が下がらなくなってしまってしまい、学習を進めるにつれ、検証用データに対する誤差はむしろ大きくなってしまっています。\n",
    "これが過学習を起こした状態で、トレーニングデータに強く学習してしまったため、本来の目的である汎化誤差が大きくなってしまっています。\n",
    "\n",
    "これは、検証用データの誤差関数値がそれ以上下がらなくなった点で学習を止めることで緩和することができます。\n",
    "上の例だとおよそ100 エポックぐらいで誤差関数値が上昇に転じているので、このあたりで学習を止めることにしましょう。"
   ],
   "cell_type": "markdown",
   "metadata": {}
  },
  {
   "cell_type": "code",
   "execution_count": null,
   "metadata": {},
   "outputs": [],
   "source": [
    "# モデルの定義\n",
    "from tensorflow.keras.models import Sequential\n",
    "from tensorflow.keras.layers import Dense\n",
    "model = Sequential([\n",
    "    Dense(128, activation='relu', input_dim=1),  # ノード数が64の層を追加。活性化関数はReLU関数。\n",
    "    Dense(128, activation='relu'),  # ノード数が64の層を追加。活性化関数はReLU関数。\n",
    "    Dense(128, activation='relu'),  # ノード数が64の層を追加。活性化関数はReLU関数。\n",
    "    Dense(128, activation='relu'),  # ノード数が64の層を追加。活性化関数はReLU関数。\n",
    "    Dense(1, activation='linear'),  # ノード数が1の層を追加。活性化関数は線形関数。\n",
    "])\n",
    "\n",
    "model.compile(loss='mean_squared_error', optimizer='adam')\n",
    "\n",
    "# トレーニング\n",
    "history = model.fit(\n",
    "    x=x_train,\n",
    "    y=t_train,\n",
    "    validation_data=(x_valid, t_valid),\n",
    "    epochs=100,\n",
    "    verbose=0\n",
    ")\n",
    "\n",
    "# ロス関数の推移を取得します\n",
    "loss_train = history.history['loss']\n",
    "loss_valid = history.history['val_loss']\n",
    "\n",
    "# データ点とモデル予測値のプロット\n",
    "plt.scatter(x_train, t_train, s=10, c='black', label='training data')  # データ点のプロット\n",
    "plt.scatter(x_valid, t_valid, s=10, c='gray', label='validation data')  # データ点のプロット\n",
    "plt.plot(x_grid, model.predict(x_grid), c='red', label='prediction')\n",
    "plt.plot(x_grid, np.sin(x_grid), c='blue', label='y=sin(x)')\n",
    "plt.legend()\n",
    "plt.show()\n",
    "\n",
    "# ロス関数の推移をプロット\n",
    "plt.plot(loss_train, label='loss (train)')\n",
    "plt.plot(loss_valid, label='loss (valid)')\n",
    "plt.legend()\n",
    "plt.show()"
   ]
  },
  {
   "source": [
    "今度はどうなったでしょうか？おそらく、過学習が大幅に抑制されているのではないかと思います。\n",
    "\n",
    "このように、学習を途中で打ち切るような手法を早期終了(Early Stopping)と言います。\n",
    "Keras/Tensorflowでは、これが簡単に行えるようにコールバックが用意されています。\n",
    "\n",
    "https://www.tensorflow.org/api_docs/python/tf/keras/callbacks/EarlyStopping\n",
    "\n",
    "(他にもいろいろなコールバックが用意されています。コールバックは、学習の前後や学習の途中で追加で何か処理をしたい時に使います。)"
   ],
   "cell_type": "markdown",
   "metadata": {}
  },
  {
   "cell_type": "code",
   "execution_count": null,
   "metadata": {},
   "outputs": [],
   "source": [
    "from tensorflow.keras.callbacks import EarlyStopping\n",
    "es = EarlyStopping(patience=20, restore_best_weights=True)"
   ]
  },
  {
   "source": [
    "`patience`というのは、モニターしたい値(ここでは検証用データのロス)が何エポック下がらなくなったら学習を止めるか、を指定します。今はちょっと大きめの値の20としておきます。\n",
    "この値は問題・モデルによって調節するべき値です。小さすぎると、過学習を起こす前・学習が十分に行われていない段階で学習がストップしてしまいます。一方で、\b大きすぎると学習時間が余計にかかってしまいます。\n",
    "\n",
    "`restore_best_weights`がFalseだと、early stoppingが終わったときのモデルの重みがそのまま残ります。そのため、`restore_best_weights`がFalseかつ`patience`を大きくすると、過学習が起こってしまった値が記録されてしまいます。この値をTrueにしておくと、ロスが最小になったときのモデルの重みでモデルがアップデートされます。\n",
    "\n",
    "このコールバックを`fit` の引数として与えることで、Early stoppingが行われます。"
   ],
   "cell_type": "markdown",
   "metadata": {}
  },
  {
   "cell_type": "code",
   "execution_count": null,
   "metadata": {},
   "outputs": [],
   "source": [
    "# モデルの定義\n",
    "from tensorflow.keras.models import Sequential\n",
    "from tensorflow.keras.layers import Dense\n",
    "model = Sequential([\n",
    "    Dense(128, activation='relu', input_dim=1),  # ノード数が64の層を追加。活性化関数はReLU関数。\n",
    "    Dense(128, activation='relu'),  # ノード数が64の層を追加。活性化関数はReLU関数。\n",
    "    Dense(128, activation='relu'),  # ノード数が64の層を追加。活性化関数はReLU関数。\n",
    "    Dense(128, activation='relu'),  # ノード数が64の層を追加。活性化関数はReLU関数。\n",
    "    Dense(1, activation='linear'),  # ノード数が1の層を追加。活性化関数は線形関数。\n",
    "])\n",
    "\n",
    "model.compile(loss='mean_squared_error', optimizer='adam')\n",
    "\n",
    "# 早期終了(Early stopping)コールバック\n",
    "from tensorflow.keras.callbacks import EarlyStopping\n",
    "es = EarlyStopping(patience=20, restore_best_weights=True)\n",
    "\n",
    "# トレーニング\n",
    "history = model.fit(\n",
    "    x=x_train,\n",
    "    y=t_train,\n",
    "    validation_data=(x_valid, t_valid),\n",
    "    epochs=500,\n",
    "    callbacks=es,  # ここでコールバックを指定します。\n",
    "    verbose=0\n",
    ")\n",
    "\n",
    "print(f\"stopped epoch = {es.stopped_epoch}, patience = {es.patience}, best epoch = {es.stopped_epoch - es.patience}\")\n",
    "\n",
    "# ロス関数の推移を取得します\n",
    "loss_train = history.history['loss']\n",
    "loss_valid = history.history['val_loss']\n",
    "\n",
    "# データ点とモデル予測値のプロット\n",
    "plt.scatter(x_train, t_train, s=10, c='black', label='training data')  # データ点のプロット\n",
    "plt.scatter(x_valid, t_valid, s=10, c='gray', label='validation data')  # データ点のプロット\n",
    "plt.plot(x_grid, model.predict(x_grid), c='red', label='prediction')\n",
    "plt.plot(x_grid, np.sin(x_grid), c='blue', label='y=sin(x)')\n",
    "plt.legend()\n",
    "plt.show()\n",
    "\n",
    "# ロス関数の推移をプロット\n",
    "plt.plot(loss_train, label='loss (train)')\n",
    "plt.plot(loss_valid, label='loss (valid)')\n",
    "plt.legend()\n",
    "plt.show()"
   ]
  },
  {
   "source": [
    "指定した最大エポック数(500エポック)の前に学習が終了していると思います。また、過学習も緩和されています。"
   ],
   "cell_type": "markdown",
   "metadata": {}
  }
 ]
}