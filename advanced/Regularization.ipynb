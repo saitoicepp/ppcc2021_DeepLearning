{
 "cells": [
  {
   "cell_type": "markdown",
   "metadata": {},
   "source": [
    "# 正則化 (Regularization)\n"
   ]
  },
  {
   "cell_type": "code",
   "execution_count": null,
   "metadata": {},
   "outputs": [],
   "source": [
    "# Tensorflowが使うCPUの数を制限します。(VMを使う場合)\n",
    "%env OMP_NUM_THREADS=1\n",
    "%env TF_NUM_INTEROP_THREADS=1\n",
    "%env TF_NUM_INTRAOP_THREADS=1\n",
    "\n",
    "from tensorflow.config import threading\n",
    "num_threads = 1\n",
    "threading.set_inter_op_parallelism_threads(num_threads)\n",
    "threading.set_intra_op_parallelism_threads(num_threads)\n",
    "\n",
    "#ライブラリのインポート\n",
    "%matplotlib inline\n",
    "import numpy as np\n",
    "import matplotlib.pyplot as plt"
   ]
  },
  {
   "cell_type": "markdown",
   "metadata": {},
   "source": [
    "## 過学習(Overtraining)の例\n",
    "### データ点の生成\n",
    "sin関数に0.2の大きさのノイズが乗ったデータを考えます。データ数は30にします。\n",
    "早期終了の例と同様に、scikit learningの関数を使ってデータをトレーニング用と検証用に分割します。"
   ]
  },
  {
   "cell_type": "code",
   "execution_count": null,
   "metadata": {},
   "outputs": [],
   "source": [
    "np.random.seed(0)\n",
    "\n",
    "nSample = 30\n",
    "\n",
    "x = np.linspace(-np.pi, np.pi, nSample)\n",
    "t0 = np.sin(x)\n",
    "t = t0 + 0.2 * np.random.randn(nSample)\n",
    "\n",
    "from sklearn.model_selection import train_test_split\n",
    "x_train, x_valid, t_train, t_valid = train_test_split(x, t, test_size=0.2)\n",
    "\n",
    "# For plot\n",
    "x_grid = np.linspace(-np.pi, np.pi, 100)"
   ]
  },
  {
   "cell_type": "markdown",
   "metadata": {},
   "source": [
    "### デモに用いる深層学習モデル\n",
    "過学習の様子を見るために、パラメータ数の多いモデルを使ってフィットをしてみます。\n",
    "ここでは、隠れ層が5層、ノード数が128の隠れ層を4層重ねた多層パーセプトロンを使用します。\n",
    "活性化関数としてはReLUを使い、モデルの出力の直前のノードは、活性化関数を使用しないことにします。\n",
    "誤差関数は二乗和誤差を使い、最適化関数としてadamを使用します。"
   ]
  },
  {
   "cell_type": "code",
   "execution_count": null,
   "metadata": {},
   "outputs": [],
   "source": [
    "# モデルの定義\n",
    "from tensorflow.keras.models import Sequential\n",
    "from tensorflow.keras.layers import Dense\n",
    "model = Sequential([\n",
    "    Dense(128, activation='relu', input_dim=1),  # ノード数が128の層を追加。活性化関数はReLU関数。\n",
    "    Dense(128, activation='relu'),  # ノード数が128の層を追加。活性化関数はReLU関数。\n",
    "    Dense(128, activation='relu'),  # ノード数が128の層を追加。活性化関数はReLU関数。\n",
    "    Dense(128, activation='relu'),  # ノード数が128の層を追加。活性化関数はReLU関数。\n",
    "    Dense(1, activation='linear'),  # ノード数が1の層を追加。活性化関数は線形関数。\n",
    "])\n",
    "\n",
    "model.compile(loss='mean_squared_error', optimizer='adam', metrics=['mse'])\n",
    "\n",
    "#  トレーニング\n",
    "history = model.fit(\n",
    "    x=x_train, \n",
    "    y=t_train,\n",
    "    validation_data=(x_valid, t_valid),\n",
    "    epochs=300,\n",
    "    verbose=0\n",
    ")\n",
    "\n",
    "# ロス関数の推移を取得します\n",
    "loss_train = history.history['loss']\n",
    "loss_valid = history.history['val_loss']\n",
    "\n",
    "# プロット\n",
    "plt.scatter(x_train, t_train, s=10, c='black', label='data')  # データ点のプロット\n",
    "plt.plot(x_grid, model.predict(x_grid), c='red', label='prediction')\n",
    "plt.plot(x_grid, np.sin(x_grid), c='blue', label='y=sin(r)')\n",
    "plt.legend()\n",
    "plt.show()\n",
    "\n",
    "# ロス関数の推移をプロット\n",
    "plt.plot(loss_train, label='loss (train)')\n",
    "plt.plot(loss_valid, label='loss (valid)')\n",
    "plt.legend()\n",
    "plt.show()\n"
   ]
  },
  {
   "cell_type": "markdown",
   "metadata": {},
   "source": [
    "## L2 正則化\n",
    "過学習の問題は、トレーニングサンプルの数が少なすぎる時、もしくはモデルの表現能力が高すぎる、パラメータの自由度が大きすぎると起こります。\n",
    "校舎を抑制するため、パラメータの自由度を適度に制約してやることで過学習を抑えることができます。\n",
    "\n",
    "正則化(Regularization)は、パラメータに制限をかけることで、過学習を抑制します。\n",
    "\n",
    "代表的なものはL2 正則、もしくは *荷重減衰(weight decay)* と呼ばれる手法で、重みパラメータの2乗和\n",
    "$$\n",
    "L_{\\text L2} = \\sum_i w_i^2\n",
    "$$\n",
    "の大きさでペナルティーをかけることで、重みパラメータが過度に大きくならないようにします。\n",
    "\n",
    "(実はこの制約のかけ方は、$w_i$の事前分布としてガウス分布を仮定すると、導出されます。興味のあるかたは調べてみてください。)\n",
    "\n",
    "Tensorflow/Kerasではこれが簡単に行えるようになっています。\n"
   ]
  },
  {
   "cell_type": "markdown",
   "metadata": {},
   "source": [
    "L2正則化のための関数が用意されています。\n",
    "https://www.tensorflow.org/api_docs/python/tf/keras/regularizers/L2\n",
    "\n",
    "Dense レイヤーの重みパラメータにL2 ロスを入れたい場合は、\n",
    "```python\n",
    "from tensorflow.keras.regularizers import l2\n",
    "Dense(\n",
    "    units=128,\n",
    "    activation='relu',\n",
    "    kernel_regularizer=l2(),\n",
    "    bias_regularizer=l2(),\n",
    ")\n",
    "```\n",
    "もしくは、より簡単に\n",
    "```python\n",
    "Dense(\n",
    "    units=128,\n",
    "    activation='relu',\n",
    "    kernel_regularizer='l2',\n",
    "    bias_regularizer='l2',\n",
    ")\n",
    "```\n",
    "のように引数としてどのような正則化を加えるかを指定します。\n",
    "文字列として正則化項の指定をした場合は、デフォルトの値が使われます。\n",
    "一方、`l2()`のようにした場合、l2の引数を指定することで、ペナルティの大きさを調整することもできます。 \n",
    "\n",
    "例えば、`l2(l2=0.01)`のようにした場合、\n",
    "$$\n",
    "L_{\\text total} = L + 0.01 \\cdot \\sum_i w_i^2\n",
    "$$\n",
    "のようなロス関数を最小化することになります。\n",
    "\n",
    "実際に学習をさせてみましょう。"
   ]
  },
  {
   "cell_type": "code",
   "execution_count": null,
   "metadata": {},
   "outputs": [],
   "source": [
    "\n",
    "# モデルの定義\n",
    "from tensorflow.keras.models import Sequential\n",
    "from tensorflow.keras.layers import Dense\n",
    "from tensorflow.keras.regularizers import l2\n",
    "model = Sequential([\n",
    "    Dense(128, activation='relu', kernel_regularizer=l2(l2=0.01), bias_regularizer=l2(l2=0.01), input_dim=1),  # ノード数が128の層を追加。活性化関数はReLU関数。\n",
    "    Dense(128, activation='relu', kernel_regularizer=l2(l2=0.01), bias_regularizer=l2(l2=0.01)),  # ノード数が128の層を追加。活性化関数はReLU関数。\n",
    "    Dense(128, activation='relu', kernel_regularizer=l2(l2=0.01), bias_regularizer=l2(l2=0.01)),  # ノード数が128の層を追加。活性化関数はReLU関数。\n",
    "    Dense(128, activation='relu', kernel_regularizer=l2(l2=0.01), bias_regularizer=l2(l2=0.01)),  # ノード数が128の層を追加。活性化関数はReLU関数。\n",
    "    Dense(1, activation='linear', kernel_regularizer=l2(l2=0.01), bias_regularizer=l2(l2=0.01)),  # ノード数が1の層を追加。活性化関数は線形関数。\n",
    "])\n",
    "\n",
    "model.compile(loss='mean_squared_error', optimizer='adam', metrics=['mse'])\n",
    "\n",
    "#  トレーニング\n",
    "history = model.fit(\n",
    "    x=x_train, \n",
    "    y=t_train,\n",
    "    validation_data=(x_valid, t_valid),\n",
    "    epochs=300,\n",
    "    verbose=0\n",
    ")\n",
    "\n",
    "# L2を除いたロス関数の推移を取得します\n",
    "loss_train = history.history['mse']\n",
    "loss_valid = history.history['val_mse']\n",
    "\n",
    "# プロット\n",
    "plt.scatter(x_train, t_train, s=10, c='black', label='data')  # データ点のプロット\n",
    "plt.plot(x_grid, model.predict(x_grid), c='red', label='prediction')\n",
    "plt.plot(x_grid, np.sin(x_grid), c='blue', label='y=sin(r)')\n",
    "plt.legend()\n",
    "plt.show()\n",
    "\n",
    "# ロス関数の推移をプロット\n",
    "plt.plot(loss_train, label='loss (train)')\n",
    "plt.plot(loss_valid, label='loss (valid)')\n",
    "plt.legend()\n",
    "plt.show()\n"
   ]
  },
  {
   "cell_type": "markdown",
   "metadata": {},
   "source": [
    "正則化によって過学習が抑制されてます。また検証用データに誤差関数の値が十分に小さく抑えられているはずです。"
   ]
  },
  {
   "cell_type": "markdown",
   "metadata": {},
   "source": [
    "## L1正則化\n",
    "もう一つよく使われる正則化手法として、L1 正則化があります。\n",
    "こちらは、Lasso とも呼ばれることがあります。\n",
    "\n",
    "L1 正則化では、\n",
    "$$\n",
    "L_{\\text L1} = \\sum_i |w_i|\n",
    "$$\n",
    "の形で誤差関数にペナルティーを与えます。\n",
    "L1正則化は、L2正則化と比較して、$w_i$が0になりやすいという特徴があります。\n",
    "このことから、モデルパラメータを疎にする目的でこの手法が使われることもあります。\n",
    "\n",
    "こちらもTensorflow/Keras で関数が用意されており、l2と同様に使うことができます。\n",
    "https://www.tensorflow.org/api_docs/python/tf/keras/regularizers/L1\n"
   ]
  },
  {
   "cell_type": "code",
   "execution_count": null,
   "metadata": {},
   "outputs": [],
   "source": [
    "\n",
    "# モデルの定義\n",
    "from tensorflow.keras.models import Sequential\n",
    "from tensorflow.keras.layers import Dense\n",
    "from tensorflow.keras.regularizers import l1\n",
    "model = Sequential([\n",
    "    Dense(128, activation='relu', kernel_regularizer=l1(l1=1e-3), bias_regularizer=l1(l1=1e-3), input_dim=1),  # ノード数が128の層を追加。活性化関数はReLU関数。\n",
    "    Dense(128, activation='relu', kernel_regularizer=l1(l1=1e-3), bias_regularizer=l1(l1=1e-3)),  # ノード数が128の層を追加。活性化関数はReLU関数。\n",
    "    Dense(128, activation='relu', kernel_regularizer=l1(l1=1e-3), bias_regularizer=l1(l1=1e-3)),  # ノード数が128の層を追加。活性化関数はReLU関数。\n",
    "    Dense(128, activation='relu', kernel_regularizer=l1(l1=1e-3), bias_regularizer=l1(l1=1e-3)),  # ノード数が128の層を追加。活性化関数はReLU関数。\n",
    "    Dense(1, activation='linear', kernel_regularizer=l1(l1=1e-3), bias_regularizer=l1(l1=1e-3)),  # ノード数が1の層を追加。活性化関数は線形関数。\n",
    "])\n",
    "\n",
    "model.compile(loss='mean_squared_error', optimizer='adam', metrics=['mse'])\n",
    "\n",
    "#  トレーニング\n",
    "history = model.fit(\n",
    "    x=x_train, \n",
    "    y=t_train,\n",
    "    validation_data=(x_valid, t_valid),\n",
    "    epochs=300,\n",
    "    verbose=0\n",
    ")\n",
    "\n",
    "# L1を除いたロス関数の推移を取得します\n",
    "loss_train = history.history['mse']\n",
    "loss_valid = history.history['val_mse']\n",
    "\n",
    "# プロット\n",
    "plt.scatter(x, t, s=10, c='black', label='data')  # データ点のプロット\n",
    "plt.plot(x_grid, model.predict(x_grid), c='red', label='prediction')\n",
    "plt.plot(x_grid, np.sin(x_grid), c='blue', label='y=sin(r)')\n",
    "plt.legend()\n",
    "plt.show()\n",
    "\n",
    "# ロス関数の推移をプロット\n",
    "plt.plot(loss_train, label='loss (train)')\n",
    "plt.plot(loss_valid, label='loss (valid)')\n",
    "plt.legend()\n",
    "plt.show()\n"
   ]
  },
  {
   "cell_type": "markdown",
   "metadata": {},
   "source": [
    "L1L2という関数で、L1正則化とL2正則化の両方をかけることもできます。\n",
    "$$\n",
    "L_{\\text total} = L + \\lambda_{L1} \\cdot \\sum_i |w_i| + \\lambda_{L2} \\cdot \\sum_i w_i^2\n",
    "$$\n",
    "\n",
    "https://www.tensorflow.org/api_docs/python/tf/keras/regularizers/L1L2\n",
    "\n",
    "```python\n",
    "L1L2(\n",
    "    l1=0.001,\n",
    "    l2=0.01\n",
    ")\n",
    "```"
   ]
  },
  {
   "cell_type": "markdown",
   "metadata": {},
   "source": [
    "L1, L2正則化の大きさを変化させて、モデルの予測がどのように変化するかを調べてみましょう。"
   ]
  }
 ],
 "metadata": {
  "kernelspec": {
   "display_name": "Python 3.8.13 ('env': venv)",
   "language": "python",
   "name": "python3"
  },
  "language_info": {
   "codemirror_mode": {
    "name": "ipython",
    "version": 3
   },
   "file_extension": ".py",
   "mimetype": "text/x-python",
   "name": "python",
   "nbconvert_exporter": "python",
   "pygments_lexer": "ipython3",
   "version": "3.8.13"
  },
  "orig_nbformat": 4,
  "vscode": {
   "interpreter": {
    "hash": "f5ee84ca7cc839add57a1456079373a6ef1d5daac4f4be388eaa02049720b4e1"
   }
  }
 },
 "nbformat": 4,
 "nbformat_minor": 2
}
