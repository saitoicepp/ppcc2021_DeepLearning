{
 "cells": [
  {
   "cell_type": "markdown",
   "metadata": {},
   "source": [
    "# 勾配消失問題\n",
    "多層パーセプトロンでは、層の長さを長くすればするほど表現力は増します。一方で、学習が難しくなるという問題が知られています。"
   ]
  },
  {
   "cell_type": "code",
   "execution_count": null,
   "metadata": {},
   "outputs": [],
   "source": [
    "# Tensorflowが使うCPUの数を制限します。(VMを使う場合)\n",
    "%env OMP_NUM_THREADS=1\n",
    "%env TF_NUM_INTEROP_THREADS=1\n",
    "%env TF_NUM_INTRAOP_THREADS=1\n",
    "\n",
    "from tensorflow.config import threading\n",
    "num_threads = 1\n",
    "threading.set_inter_op_parallelism_threads(num_threads)\n",
    "threading.set_intra_op_parallelism_threads(num_threads)\n",
    "\n",
    "#ライブラリのインポート\n",
    "%matplotlib inline\n",
    "import numpy as np\n",
    "import matplotlib.pyplot as plt"
   ]
  },
  {
   "cell_type": "code",
   "execution_count": null,
   "metadata": {},
   "outputs": [],
   "source": [
    "# このセルはヘルパー関数です。\n",
    "\n",
    "# i 番目のレイヤーの出力を取得する\n",
    "def getActivation(model, i, x):\n",
    "    from tensorflow.keras import Model\n",
    "    activation = Model(model.input, model.layers[i].output)(x)\n",
    "    return activation.numpy()\n",
    "\n",
    "\n",
    "# iLayer 番目のレイヤーにつながる重み(wij)の勾配を取得する\n",
    "def getGradientParameter(model, i, x, t):\n",
    "    from tensorflow.nest import flatten\n",
    "    from tensorflow import constant\n",
    "    from tensorflow.python.eager import backprop\n",
    "\n",
    "    weights = model.layers[i].weights[0]  # get only kernel (not bias)\n",
    "    with backprop.GradientTape() as tape:\n",
    "        pred = model(x)\n",
    "        loss = model.compiled_loss(constant(t), pred)\n",
    "\n",
    "    gradients = tape.gradient(loss, weights)\n",
    "    return gradients.numpy()\n",
    "\n",
    "\n",
    "# 左上: ウェイト(wij)の初期値をプロット\n",
    "def plot_weights(model, x, t):\n",
    "    iLayers = [0, 3, 6, 10]\n",
    "    labels = [\n",
    "        ' 0th layer',\n",
    "        ' 3th layer',\n",
    "        ' 6th layer',\n",
    "        'Last layer',\n",
    "    ]\n",
    "\n",
    "    values = [model.weights[i * 2].numpy().flatten() for i in iLayers]  # get only kernel (not bias)\n",
    "    plt.hist(values, bins=50, stacked=False, density=True, label=labels, histtype='step')\n",
    "    plt.xlabel('weight')\n",
    "    plt.ylabel('Probability density')\n",
    "    plt.legend(loc='upper left', fontsize='x-small')\n",
    "    plt.show()\n",
    "\n",
    "# 左下: 各ノードの出力(sigma(ai))をプロット\n",
    "def plot_nodes(model, x, t):\n",
    "    iLayers = [0, 3, 6, 10]\n",
    "    labels = [\n",
    "        ' 0th layer',\n",
    "        ' 3th layer',\n",
    "        ' 6th layer',\n",
    "        'Last layer',\n",
    "    ]\n",
    "\n",
    "    values = [getActivation(model, i, x).flatten() for i in iLayers]\n",
    "    plt.hist(values, bins=50, stacked=False, density=True, label=labels, histtype='step')\n",
    "    plt.xlabel('activation')\n",
    "    plt.ylabel('Probability density')\n",
    "    plt.legend(loc='upper center', fontsize='x-small')\n",
    "    plt.show()\n",
    "\n",
    "# 右上: ウェイト(wij)の微分(dE/dwij)をプロット\n",
    "def plot_gradients(model, x, t):\n",
    "    iLayers = [0, 3, 6, 10]\n",
    "    labels = [\n",
    "        ' 0th layer',\n",
    "        ' 3th layer',\n",
    "        ' 6th layer',\n",
    "        'Last layer',\n",
    "    ]\n",
    "\n",
    "    grads = [np.abs(getGradientParameter(model, i, x, t).flatten()) for i in iLayers]\n",
    "    grads = [np.log10(x[x > 0]) for x in grads]\n",
    "    plt.hist(grads, bins=50, stacked=False, density=True, label=labels, histtype='step')\n",
    "    plt.xlabel('log10(|gradient of weights|)')\n",
    "    plt.ylabel('Probability density')\n",
    "    plt.legend(loc='upper left', fontsize='x-small')\n",
    "    plt.show()\n",
    "\n"
   ]
  },
  {
   "source": [
    "中間層が10層という深い多層パーセプトロンを用いて、モデル中の重みパラメータの大きさ、勾配の大きさを調べてみます。"
   ],
   "cell_type": "markdown",
   "metadata": {}
  },
  {
   "cell_type": "code",
   "execution_count": null,
   "metadata": {
    "tags": []
   },
   "outputs": [],
   "source": [
    "from tensorflow.keras.models import Sequential\n",
    "from tensorflow.keras.initializers import RandomNormal, RandomUniform\n",
    "from tensorflow.keras.layers import Dense\n",
    "\n",
    "# データセットの生成\n",
    "nSamples = 1000\n",
    "nFeatures = 50\n",
    "x = np.random.randn(nSamples, nFeatures)  # 100個の入力変数を持つイベント1000個生成。それぞれの入力変数は正規分布に従う\n",
    "t = np.random.randint(2, size=nSamples).reshape([nSamples, 1])  # 正解ラベルは0 or 1でランダムに生成\n",
    "\n",
    "# モデルの定義\n",
    "activation = 'sigmoid'  # 中間層の各ノードで使う活性化関数\n",
    "initializer = RandomNormal(mean=0.0, stddev=1.0)  # weight(wij)の初期値。ここでは正規分布に従って初期化する\n",
    "# initializer = RandomUniform(minval=-1, maxval=1)  # weight(wij)の初期値。ここでは一様分布に従って初期化する\n",
    "\n",
    "# 中間層が10層の多層パーセプトロン。各レイヤーのノード数は全て50。\n",
    "model = Sequential([\n",
    "    Dense(50, activation=activation, kernel_initializer=initializer, input_dim=nFeatures),\n",
    "    Dense(50, activation=activation, kernel_initializer=initializer),\n",
    "    Dense(50, activation=activation, kernel_initializer=initializer),\n",
    "    Dense(50, activation=activation, kernel_initializer=initializer),\n",
    "    Dense(50, activation=activation, kernel_initializer=initializer),\n",
    "    Dense(50, activation=activation, kernel_initializer=initializer),\n",
    "    Dense(50, activation=activation, kernel_initializer=initializer),\n",
    "    Dense(50, activation=activation, kernel_initializer=initializer),\n",
    "    Dense(50, activation=activation, kernel_initializer=initializer),\n",
    "    Dense(50, activation=activation, kernel_initializer=initializer),\n",
    "    Dense(1, activation='sigmoid', kernel_initializer=initializer)\n",
    "])\n",
    "model.compile(loss='binary_crossentropy', optimizer='adam')\n",
    "\n",
    "# ウェイト(wij)の初期値をプロット\n",
    "plot_weights(model, x, t)\n",
    "\n",
    "# 各ノードの出力(sigma(ai))をプロット\n",
    "plot_nodes(model, x, t)\n",
    "\n",
    "# ウェイト(wij)の微分(dE/dwij)をプロット\n",
    "plot_gradients(model, x, t)\n"
   ]
  },
  {
   "cell_type": "markdown",
   "metadata": {},
   "source": [
    "左上のプロットはパラメータ($w_{ij}$)の初期値を表しています。指定したとおり、各層で正規分布に従って初期化されています。\n",
    "左下のプロットは活性化関数の出力($z_i$)を表しています。パラメータ($w_{ij}$)の初期値として正規分布を指定すると、シグモイド関数の出力はそのほとんどが0か1に非常に近い値となっています。シグモイド関数の微分は$\\sigma^{'}(x)=\\sigma(x)\\cdot(1-\\sigma(x))$なので、$\\sigma(x)$が0や1に近いときは微分値も非常に小さな値となります。\n",
    "誤差逆伝播の式は\n",
    "$$\n",
    "\\begin{align}\n",
    "\\delta_{i}^{(k)} &= \\sigma^{'}(a_i^{(k)}) \\left( \\sum_j w_{ij}^{(k+1)} \\cdot \\delta_{j}^{(k+1)} \\right) \\\\\n",
    "\\frac{\\partial E_n}{\\partial w_{ij}^{(k)}}  &= \\delta_{j}^{(k)} \\cdot z_{i}^{(k)}\n",
    "\\end{align}\n",
    "$$\n",
    "でした。$\\sigma^{'}(a_i^{(k)})$が小さいと後方の層から前方の層に誤差が伝わる際に、値が小さくなってしまいます。\n",
    "中上、中下のプロットはそれぞれ各層での$\\frac{\\partial E_n}{\\partial w_{ij}^{(k)}}$、$\\delta_{i}^{(k)}$を表しています。\n",
    "前方の層(0th layer)は後方の層と比較して分布の絶対値が小さくなっています。\n",
    "右上と右下のプロットは各レイヤーでの$\\frac{\\partial E_n}{\\partial w_{ij}^{(k)}}$と$\\delta_{i}^{(k)}$の分布の分散を表しています。\n",
    "\n",
    "このように誤差が前の層にいくにつれて小さくなるため、前の層が後ろの層と比較して学習が進まなくなります。\n",
    "この問題は勾配消失の問題として知られています。"
   ]
  },
  {
   "cell_type": "markdown",
   "metadata": {},
   "source": [
    "勾配消失はパラメータの初期値や、活性化関数を変更することによって解決・緩和することがわかっています。\n",
    "Kerasの\n",
    "- [初期化のページ](https://keras.io/ja/initializers/)\n",
    "- [活性化関数のページ](https://keras.io/ja/activations/)\n",
    "\n",
    "も参考にしながら、この問題の解決を試みてみましょう。"
   ]
  },
  {
   "cell_type": "markdown",
   "metadata": {},
   "source": [
    "活性化関数・パラメータの初期化方法の変更はそれぞれコード中の\"activation\"、\"initializer\"を変更することによって行えます。\n",
    "\n",
    "例えばパラメータの初期化を(-0.01, +0.01)の一様分布に変更するときは以下のコードのようにすれば良いです。"
   ]
  },
  {
   "cell_type": "code",
   "execution_count": null,
   "metadata": {},
   "outputs": [],
   "source": [
    "from tensorflow.keras.models import Sequential\n",
    "from tensorflow.keras.initializers import RandomNormal, RandomUniform\n",
    "from tensorflow.keras.layers import Dense\n",
    "\n",
    "# データセットの生成\n",
    "nSamples = 1000\n",
    "nFeatures = 50\n",
    "x = np.random.randn(nSamples, nFeatures)  # 100個の入力変数を持つイベント1000個生成。それぞれの入力変数は正規分布に従う\n",
    "t = np.random.randint(2, size=nSamples).reshape([nSamples, 1])  # 正解ラベルは0 or 1でランダムに生成\n",
    "\n",
    "# モデルの定義\n",
    "activation = 'sigmoid'  # 中間層の各ノードで使う活性化関数\n",
    "# initializer = RandomNormal(mean=0.0, stddev=1.0)  # weight(wij)の初期値。ここでは正規分布に従って初期化する\n",
    "initializer = RandomUniform(minval=-0.01, maxval=0.01)  # weight(wij)の初期値。ここでは一様分布に従って初期化する\n",
    "\n",
    "# 中間層が10層の多層パーセプトロン。各レイヤーのノード数は全て50。\n",
    "model = Sequential([\n",
    "    Dense(50, activation=activation, kernel_initializer=initializer, input_dim=nFeatures),\n",
    "    Dense(50, activation=activation, kernel_initializer=initializer),\n",
    "    Dense(50, activation=activation, kernel_initializer=initializer),\n",
    "    Dense(50, activation=activation, kernel_initializer=initializer),\n",
    "    Dense(50, activation=activation, kernel_initializer=initializer),\n",
    "    Dense(50, activation=activation, kernel_initializer=initializer),\n",
    "    Dense(50, activation=activation, kernel_initializer=initializer),\n",
    "    Dense(50, activation=activation, kernel_initializer=initializer),\n",
    "    Dense(50, activation=activation, kernel_initializer=initializer),\n",
    "    Dense(50, activation=activation, kernel_initializer=initializer),\n",
    "    Dense(1, activation='sigmoid', kernel_initializer=initializer)\n",
    "])\n",
    "\n",
    "model.compile(loss='binary_crossentropy', optimizer='adam')\n",
    "\n",
    "# ウェイト(wij)の初期値をプロット\n",
    "plot_weights(model, x, t)\n",
    "\n",
    "# 各ノードの出力(sigma(ai))をプロット\n",
    "plot_nodes(model, x, t)\n",
    "\n",
    "# ウェイト(wij)の微分(dE/dwij)をプロット\n",
    "plot_gradients(model, x, t)\n"
   ]
  },
  {
   "cell_type": "markdown",
   "metadata": {},
   "source": [
    "この例では活性化関数の出力が0.5付近に集中しています。\n",
    "どのノードも同じ出力をしているということはノード数を増やした意味があまりなくなっており、多層パーセプトロンの表現力が十分に活かしきれていないことがわかります。\n",
    "また、勾配消失も先程の例と比較して大きくなっています。"
   ]
  }
 ],
 "metadata": {
  "kernelspec": {
   "name": "python3",
   "display_name": "Python 3.8.2 64-bit ('env_ml': venv)"
  },
  "language_info": {
   "codemirror_mode": {
    "name": "ipython",
    "version": 3
   },
   "file_extension": ".py",
   "mimetype": "text/x-python",
   "name": "python",
   "nbconvert_exporter": "python",
   "pygments_lexer": "ipython3",
   "version": "3.8.2"
  },
  "varInspector": {
   "cols": {
    "lenName": 16,
    "lenType": 16,
    "lenVar": 40
   },
   "kernels_config": {
    "python": {
     "delete_cmd_postfix": "",
     "delete_cmd_prefix": "del ",
     "library": "var_list.py",
     "varRefreshCmd": "print(var_dic_list())"
    },
    "r": {
     "delete_cmd_postfix": ") ",
     "delete_cmd_prefix": "rm(",
     "library": "var_list.r",
     "varRefreshCmd": "cat(var_dic_list()) "
    }
   },
   "types_to_exclude": [
    "module",
    "function",
    "builtin_function_or_method",
    "instance",
    "_Feature"
   ],
   "window_display": false
  },
  "interpreter": {
   "hash": "7abbca3dcda626ca09b91bf777664d615a2fbfcbb92dc37a33663654d9bdcdc8"
  }
 },
 "nbformat": 4,
 "nbformat_minor": 2
}