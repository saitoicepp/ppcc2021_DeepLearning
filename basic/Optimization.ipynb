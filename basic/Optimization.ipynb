{
 "cells": [
  {
   "cell_type": "code",
   "execution_count": null,
   "metadata": {},
   "outputs": [],
   "source": [
    "# ライブラリのインポート\n",
    "%matplotlib inline\n",
    "import numpy as np\n",
    "import matplotlib.pyplot as plt"
   ]
  },
  {
   "cell_type": "markdown",
   "metadata": {},
   "source": [
    "先程は$f(x_1,x_2)=x_1^2 + x_2^2$の最小化を行いましたが、以下の関数(Rosenbrock function)を最小化してみましょう。\n",
    "$$\n",
    "f(x_1,x_2)=(1-x_1)^2 + 100(x_2-x_1^2)^2\n",
    "$$\n",
    "この関数は$(x_1,x_2)=(1, 1)$で最小値を取ります。\n",
    "微分は\n",
    "$$\n",
    "\\begin{align*}\n",
    "\\frac{\\partial f}{\\partial x_1} &= -2(1-x_1) - 400(x_2-x_1^2)x_1 \\\\\n",
    "\\frac{\\partial f}{\\partial x_2} &= 200(x_2-x_1^2) \\\\\n",
    "\\end{align*}\n",
    "$$\n",
    "となります。これを最急降下法(GD)で最小化すると、"
   ]
  },
  {
   "cell_type": "code",
   "execution_count": null,
   "metadata": {},
   "outputs": [],
   "source": [
    "# 目的関数の等高線プロット\n",
    "x1, x2 = np.mgrid[-0.8:1.2:100j, -0.1:1.1:100j]  # x1 = (-5, 5), x2 = (-5, 5) の範囲で100点x100点のメッシュを作成\\\n",
    "y = (1 - x1) ** 2 + 100 * (x2 - x1 ** 2) ** 2  # Rosenbrock関数\n",
    "plt.contour(x1, x2, np.log(y), linestyles='dashed', levels=10)  # 見やすさのため、z軸をlog-scaleにしています\n",
    "\n",
    "x1History = []\n",
    "x2History = []\n",
    "\n",
    "x1 = -0.5  # 初期値\n",
    "x2 = 0.5  # 初期値\n",
    "x1History.append(x1)\n",
    "x2History.append(x2)\n",
    "\n",
    "# 最適化\n",
    "learning_rate = 0.005  # ステップ幅\n",
    "num_steps = 100  # 繰り返し回数\n",
    "for i in range(num_steps):\n",
    "    # 一次微分\n",
    "    grad_x1 = -2 * (1 - x1) - 400 * (x2 - x1 * x1) * x1\n",
    "    grad_x2 = 200 * (x2 - x1 * x1)\n",
    "\n",
    "    # Gradient  descent\n",
    "    x1 = x1 - learning_rate * grad_x1\n",
    "    x2 = x2 - learning_rate * grad_x2\n",
    "\n",
    "    x1History.append(x1)\n",
    "    x2History.append(x2)\n",
    "\n",
    "# 更新値履歴のプロット\n",
    "plt.plot(x1History, x2History,\n",
    "         color='black',\n",
    "         marker='o', markersize=5, markerfacecolor='None', markeredgecolor='black')  # プロット\n",
    "plt.xlabel('x1')\n",
    "plt.ylabel('x2')\n",
    "plt.xlim([-0.8, 1.2])\n",
    "plt.ylim([-0.1, 1.1])\n",
    "plt.show()\n"
   ]
  },
  {
   "cell_type": "markdown",
   "metadata": {},
   "source": [
    "学習率やステップ回数を変化させてどのように学習が変わるかを見てみてください。最小値までたどり着くためにはどの程度のステップ数が必要でしょうか？"
   ]
  },
  {
   "cell_type": "markdown",
   "metadata": {},
   "source": [
    "最急降下法は\n",
    "\n",
    "$$\n",
    "\\mathbf{x}^{(k+1)} = \\mathbf{x}^{(k)} - \\epsilon \\cdot \\left. \\frac{\\partial f}{\\partial \\mathbf{x}} \\right|_{\\mathbf{x}=\\mathbf{x}^{(k)}}\n",
    "$$\n",
    "のように値を更新するアルゴリズムでした。このアルゴリズムでは、その場その場の傾きに従って降下を行うため、ジグザクのパターンで無駄な動きをすることがあります。また、変数ごとに微分の大きさが大きく異なる時、うまく最適化ができません。\n",
    "\n",
    "この問題を解決するためにさまざまな最適化手法が提案されています。最適化手法について調べて、実装し、上の関数(Rosenbrock function)を最適化してください。\n",
    "また、実際の深層学習モデルに適応したときは、どのような性能の違いが見られるでしょうか？\n",
    "\n",
    "[Kerasに実装されている最適化手法のドキュメント](https://keras.io/ja/optimizers/)に有名な最適化手法のリストと参考文献があります。\n",
    "\n",
    "他の最適化手法の一例としては\n",
    "- Momentum\n",
    "- AdaGrad\n",
    "- RMSprop\n",
    "- Adam\n",
    "\n",
    "等があります。この内特にAdamが深層学習でよく使われています。"
   ]
  }
 ],
 "metadata": {
  "kernelspec": {
   "name": "python3",
   "display_name": "Python 3.8.2 64-bit ('env_ml': venv)"
  },
  "language_info": {
   "codemirror_mode": {
    "name": "ipython",
    "version": 3
   },
   "file_extension": ".py",
   "mimetype": "text/x-python",
   "name": "python",
   "nbconvert_exporter": "python",
   "pygments_lexer": "ipython3",
   "version": "3.8.2"
  },
  "varInspector": {
   "cols": {
    "lenName": 16,
    "lenType": 16,
    "lenVar": 40
   },
   "kernels_config": {
    "python": {
     "delete_cmd_postfix": "",
     "delete_cmd_prefix": "del ",
     "library": "var_list.py",
     "varRefreshCmd": "print(var_dic_list())"
    },
    "r": {
     "delete_cmd_postfix": ") ",
     "delete_cmd_prefix": "rm(",
     "library": "var_list.r",
     "varRefreshCmd": "cat(var_dic_list()) "
    }
   },
   "types_to_exclude": [
    "module",
    "function",
    "builtin_function_or_method",
    "instance",
    "_Feature"
   ],
   "window_display": false
  },
  "interpreter": {
   "hash": "7abbca3dcda626ca09b91bf777664d615a2fbfcbb92dc37a33663654d9bdcdc8"
  }
 },
 "nbformat": 4,
 "nbformat_minor": 2
}