{
 "cells": [
  {
   "cell_type": "markdown",
   "metadata": {},
   "source": [
    "# 勾配消失問題\n",
    "多層パーセプトロンでは、層の長さを長くすればするほど表現力は増します。一方で、学習が難しくなるという問題が知られています。"
   ]
  },
  {
   "cell_type": "code",
   "execution_count": null,
   "metadata": {},
   "outputs": [],
   "source": [
    "# PyTorchが使うCPUの数を制限します。(VMを使う場合)\n",
    "%env OMP_NUM_THREADS=1\n",
    "%env MKL_NUM_THREADS=1\n",
    "\n",
    "from torch import set_num_threads, set_num_interop_threads\n",
    "num_threads = 1\n",
    "set_num_threads(num_threads)\n",
    "set_num_interop_threads(num_threads)\n",
    "\n",
    "#ライブラリのインポート\n",
    "%matplotlib inline\n",
    "import numpy as np\n",
    "import matplotlib.pyplot as plt\n",
    "import utils"
   ]
  },
  {
   "cell_type": "markdown",
   "metadata": {},
   "source": [
    "中間層が10層という深い多層パーセプトロンを用いて、モデル中の重みパラメータの大きさ、勾配の大きさを調べてみます。"
   ]
  },
  {
   "cell_type": "code",
   "execution_count": null,
   "metadata": {
    "tags": []
   },
   "outputs": [],
   "source": [
    "# Modelクラスを継承して新しいクラスを作成します\n",
    "from torch.nn import Module, Linear, Sigmoid, BCELoss, init\n",
    "\n",
    "\n",
    "# このModuleではforward()が中間層のノードを出力できるようにカスタマイズしています。\n",
    "class CustomMLP(Module):\n",
    "    def __init__(self):\n",
    "        super().__init__()\n",
    "\n",
    "        # 中間層が10層の多層パーセプトロン。各レイヤーのノード数は全て50。\n",
    "        self.linears = []\n",
    "        self.activations = []\n",
    "        for i in range(10):\n",
    "            self.linears += [Linear(in_features=50, out_features=50)]\n",
    "            self.activations += [Sigmoid()]\n",
    "        self.linears += [Linear(in_features=50, out_features=1)]\n",
    "        self.activations += [Sigmoid()]\n",
    "\n",
    "        # パラメータの初期化\n",
    "        for layer in self.linears:\n",
    "            init.normal_(\n",
    "                layer.weight, mean=0.0, std=1.0\n",
    "            )  # weight(wij)の初期値。ここでは正規分布に従って初期化する\n",
    "            init.zeros_(layer.bias)  # bias termの初期値。ここでは0に初期化する。\n",
    "\n",
    "    def forward(self, inputs, last_node_index=-1):\n",
    "        x = inputs\n",
    "        for i, (linear, activation) in enumerate(zip(self.linears, self.activations)):\n",
    "            x = linear(x)\n",
    "            x = activation(x)\n",
    "            if i == last_node_index:\n",
    "                return x\n",
    "        else:\n",
    "            return x\n",
    "\n",
    "\n",
    "# データセットの生成\n",
    "nSamples = 1000\n",
    "nFeatures = 50\n",
    "# 100個の入力変数を持つイベント1000個生成。それぞれの入力変数は正規分布に従う\n",
    "x = np.random.randn(nSamples, nFeatures)\n",
    "# 正解ラベルは0 or 1でランダムに生成\n",
    "t = np.random.randint(2, size=nSamples).reshape([nSamples, 1])\n",
    "\n",
    "\n",
    "# numpy -> torch.tensor\n",
    "from torch import from_numpy\n",
    "\n",
    "x = from_numpy(x).float()\n",
    "t = from_numpy(t).float()\n",
    "\n",
    "# 中間層が10層の多層パーセプトロン。各レイヤーのノード数は全て50。\n",
    "model = CustomMLP()\n",
    "\n",
    "# 順伝搬・逆伝搬をして勾配を計算\n",
    "y_pred = model(x)\n",
    "loss = BCELoss()(y_pred, t)\n",
    "loss.backward()\n",
    "\n",
    "# Figureの作成 (キャンバスの作成)\n",
    "fig, ax = plt.subplots(3, 1, figsize=(6, 12))\n",
    "\n",
    "# ウェイト(wij)の初期値をプロット\n",
    "utils.plot_model_weights(model, ax=ax[0])\n",
    "\n",
    "# 各ノードの出力(sigma(ai))をプロット\n",
    "utils.plot_model_hidden_nodes(model, x, ax=ax[1])\n",
    "\n",
    "# ウェイト(wij)の微分(dE/dwij)をプロット\n",
    "utils.plot_model_weight_gradients(model, x, t, ax=ax[2])\n",
    "\n",
    "# 図を表示\n",
    "plt.show()"
   ]
  },
  {
   "cell_type": "markdown",
   "metadata": {},
   "source": [
    "上段のプロットはパラメータ($w_{ij}$)の初期値を表しています。指定したとおり、各層で正規分布に従って初期化されています。\n",
    "\n",
    "中段のプロットは活性化関数の出力($z_i$)を表しています。パラメータ($w_{ij}$)の初期値として正規分布を指定すると、シグモイド関数の出力はそのほとんどが0か1に非常に近い値となっています。シグモイド関数の微分は$\\sigma^{'}(x)=\\sigma(x)\\cdot(1-\\sigma(x))$なので、$\\sigma(x)$が0や1に近いときは微分値も非常に小さな値となります。\n",
    "誤差逆伝播の式は\n",
    "$$\n",
    "\\begin{align}\n",
    "\\delta_{i}^{(k)} &= \\sigma^{'}(a_i^{(k)}) \\left( \\sum_j w_{ij}^{(k+1)} \\cdot \\delta_{j}^{(k+1)} \\right) \\\\\n",
    "\\frac{\\partial E_n}{\\partial w_{ij}^{(k)}}  &= \\delta_{j}^{(k)} \\cdot z_{i}^{(k)}\n",
    "\\end{align}\n",
    "$$\n",
    "でした。$\\sigma^{'}(a_i^{(k)})$が小さいと後方の層から前方の層に誤差が伝わる際に、値が小さくなってしまいます。\n",
    "\n",
    "下段のプロットは各層での$\\frac{\\partial E_n}{\\partial w_{ij}^{(k)}}$を表しています。\n",
    "前方の層(0th layer)は後方の層と比較して分布の絶対値が小さくなっています。\n",
    "\n",
    "このように誤差が前の層にいくにつれて小さくなるため、前の層が後ろの層と比較して学習が進まなくなります。\n",
    "この問題は勾配消失の問題として知られています。"
   ]
  },
  {
   "cell_type": "markdown",
   "metadata": {},
   "source": [
    "勾配消失はパラメータの初期値や、活性化関数を変更することによって解決・緩和することがわかっています。\n",
    "Kerasの\n",
    "- [初期化のページ](https://keras.io/initializers/)\n",
    "- [活性化関数のページ](https://keras.io/activations/)\n",
    "\n",
    "も参考にしながら、この問題の解決を試みてみましょう。"
   ]
  },
  {
   "cell_type": "markdown",
   "metadata": {},
   "source": [
    "活性化関数・パラメータの初期化方法の変更はそれぞれコード中の\"activation\"、\"initializer\"を変更することによって行えます。\n",
    "\n",
    "例えばパラメータの初期化を(-0.01, +0.01)の一様分布に変更するときは以下のコードのようにすれば良いです。"
   ]
  },
  {
   "cell_type": "code",
   "execution_count": null,
   "metadata": {},
   "outputs": [],
   "source": [
    "from torch.nn import Module, Linear, Sigmoid, BCELoss, init\n",
    "\n",
    "\n",
    "# このModuleではforward()が中間層のノードを出力できるようにカスタマイズしています。\n",
    "class CustomMLP(Module):\n",
    "    def __init__(self):\n",
    "        super().__init__()\n",
    "\n",
    "        # 中間層が10層の多層パーセプトロン。各レイヤーのノード数は全て50。\n",
    "        self.linears = []\n",
    "        self.activations = []\n",
    "        for i in range(10):\n",
    "            self.linears += [Linear(in_features=50, out_features=50)]\n",
    "            self.activations += [Sigmoid()]\n",
    "        self.linears += [Linear(in_features=50, out_features=1)]\n",
    "        self.activations += [Sigmoid()]\n",
    "\n",
    "        # パラメータの初期化\n",
    "        for layer in self.linears:\n",
    "            init.uniform_(layer.weight, a=-0.01, b=+0.01)  # NOTE: 変更箇所\n",
    "            init.zeros_(layer.bias)  # bias termの初期値。ここでは0に初期化する。\n",
    "\n",
    "    def forward(self, inputs, last_node_index=-1):\n",
    "        x = inputs\n",
    "        for i, (linear, activation) in enumerate(zip(self.linears, self.activations)):\n",
    "            x = linear(x)\n",
    "            x = activation(x)\n",
    "            if i == last_node_index:\n",
    "                return x\n",
    "        else:\n",
    "            return x\n",
    "\n",
    "\n",
    "# データセットの生成\n",
    "nSamples = 1000\n",
    "nFeatures = 50\n",
    "# 100個の入力変数を持つイベント1000個生成。それぞれの入力変数は正規分布に従う\n",
    "x = np.random.randn(nSamples, nFeatures)\n",
    "# 正解ラベルは0 or 1でランダムに生成\n",
    "t = np.random.randint(2, size=nSamples).reshape([nSamples, 1])\n",
    "\n",
    "\n",
    "# numpy -> torch.tensor\n",
    "from torch import from_numpy\n",
    "\n",
    "x = from_numpy(x).float()\n",
    "t = from_numpy(t).float()\n",
    "\n",
    "# 中間層が10層の多層パーセプトロン。各レイヤーのノード数は全て50。\n",
    "model = CustomMLP()\n",
    "\n",
    "# 順伝搬・逆伝搬をして勾配を計算\n",
    "y_pred = model(x)\n",
    "loss = BCELoss()(y_pred, t)\n",
    "loss.backward()\n",
    "\n",
    "# Figureの作成 (キャンバスの作成)\n",
    "fig, ax = plt.subplots(3, 1, figsize=(6, 12))\n",
    "\n",
    "# ウェイト(wij)の初期値をプロット\n",
    "utils.plot_model_weights(model, ax=ax[0])\n",
    "\n",
    "# 各ノードの出力(sigma(ai))をプロット\n",
    "utils.plot_model_hidden_nodes(model, x, ax=ax[1])\n",
    "\n",
    "# ウェイト(wij)の微分(dE/dwij)をプロット\n",
    "utils.plot_model_weight_gradients(model, x, t, ax=ax[2])\n",
    "\n",
    "# 図を表示\n",
    "plt.show()"
   ]
  },
  {
   "cell_type": "markdown",
   "metadata": {},
   "source": [
    "この例では活性化関数の出力が0.5付近に集中しています。\n",
    "どのノードも同じ出力をしているということはノード数を増やした意味があまりなくなっており、多層パーセプトロンの表現力が十分に活かしきれていないことがわかります。\n",
    "また、勾配消失も先程の例と比較して大きくなっています。"
   ]
  }
 ],
 "metadata": {
  "kernelspec": {
   "display_name": "env",
   "language": "python",
   "name": "python3"
  },
  "language_info": {
   "codemirror_mode": {
    "name": "ipython",
    "version": 3
   },
   "file_extension": ".py",
   "mimetype": "text/x-python",
   "name": "python",
   "nbconvert_exporter": "python",
   "pygments_lexer": "ipython3",
   "version": "3.11.9"
  },
  "varInspector": {
   "cols": {
    "lenName": 16,
    "lenType": 16,
    "lenVar": 40
   },
   "kernels_config": {
    "python": {
     "delete_cmd_postfix": "",
     "delete_cmd_prefix": "del ",
     "library": "var_list.py",
     "varRefreshCmd": "print(var_dic_list())"
    },
    "r": {
     "delete_cmd_postfix": ") ",
     "delete_cmd_prefix": "rm(",
     "library": "var_list.r",
     "varRefreshCmd": "cat(var_dic_list()) "
    }
   },
   "types_to_exclude": [
    "module",
    "function",
    "builtin_function_or_method",
    "instance",
    "_Feature"
   ],
   "window_display": false
  }
 },
 "nbformat": 4,
 "nbformat_minor": 4
}
