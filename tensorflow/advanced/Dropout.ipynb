{
 "cells": [
  {
   "cell_type": "markdown",
   "metadata": {},
   "source": [
    "# ドロップアウト (Dropout)"
   ]
  },
  {
   "cell_type": "code",
   "execution_count": null,
   "metadata": {},
   "outputs": [],
   "source": [
    "# Tensorflowが使うCPUの数を制限します。(VMを使う場合)\n",
    "%env OMP_NUM_THREADS=1\n",
    "%env TF_NUM_INTEROP_THREADS=1\n",
    "%env TF_NUM_INTRAOP_THREADS=1\n",
    "\n",
    "from tensorflow.config import threading\n",
    "num_threads = 1\n",
    "threading.set_inter_op_parallelism_threads(num_threads)\n",
    "threading.set_intra_op_parallelism_threads(num_threads)\n",
    "\n",
    "#ライブラリのインポート\n",
    "%matplotlib inline\n",
    "import numpy as np\n",
    "import matplotlib.pyplot as plt\n",
    "import utils"
   ]
  },
  {
   "cell_type": "markdown",
   "metadata": {},
   "source": [
    "## 過学習(Overtraining)の例\n",
    "### データ点の生成\n",
    "sin関数に0.3の大きさのガウシアンノイズがのったデータを考えます。データ数は30にします。\n",
    "早期終了の例と同様に、scikit learningの関数を使ってデータをトレーニング用と検証用に分割します。"
   ]
  },
  {
   "cell_type": "code",
   "execution_count": null,
   "metadata": {},
   "outputs": [],
   "source": [
    "# データ点の取得\n",
    "x, t = utils.dataset_overtraining(n=30, noise_scale=0.3)\n",
    "\n",
    "# 学習データと検証用データに分割\n",
    "from sklearn.model_selection import train_test_split\n",
    "x_train, x_valid, t_train, t_valid = train_test_split(x, t, test_size=0.30, random_state=0)\n",
    "\n",
    "# Figureの作成 (キャンバスの作成)\n",
    "fig, ax = plt.subplots()\n",
    "\n",
    "# データ点をプロット\n",
    "ax.scatter(x_train, t_train, s=10, c=\"black\", label=\"data\")\n",
    "ax.scatter(x_valid, t_valid, s=10, c=\"orange\", label=\"data\")\n",
    "x_grid = np.linspace(-np.pi, np.pi, 100)\n",
    "ax.plot(x_grid, np.sin(x_grid), c=\"blue\", label=\"y=sin(x)\")\n",
    "ax.legend()\n",
    "\n",
    "# 図を表示\n",
    "plt.show()"
   ]
  },
  {
   "cell_type": "markdown",
   "metadata": {},
   "source": [
    "### デモに用いる深層学習モデル\n",
    "過学習の様子を見るために、パラメータ数の多いモデルを使ってフィットをしてみます。\n",
    "ここでは、ノード数が128の隠れ層を5層重ねた多層パーセプトロンを使用します。\n",
    "活性化関数としてはReLUを使い、モデルの出力の直前のノードは、活性化関数を使用しないことにします。\n",
    "誤差関数は二乗和誤差を使い、最適化関数としてadamを使用します。"
   ]
  },
  {
   "cell_type": "code",
   "execution_count": null,
   "metadata": {},
   "outputs": [],
   "source": [
    "# モデルの定義\n",
    "from tensorflow.keras.models import Sequential\n",
    "from tensorflow.keras.layers import Input, Dense\n",
    "\n",
    "model = Sequential(\n",
    "    [\n",
    "        Input(shape=(1,)),\n",
    "        Dense(128, activation=\"relu\"),  # ノード数が128の層を追加。活性化関数はReLU関数。\n",
    "        Dense(128, activation=\"relu\"),  # ノード数が128の層を追加。活性化関数はReLU関数。\n",
    "        Dense(128, activation=\"relu\"),  # ノード数が128の層を追加。活性化関数はReLU関数。\n",
    "        Dense(128, activation=\"relu\"),  # ノード数が128の層を追加。活性化関数はReLU関数。\n",
    "        Dense(128, activation=\"relu\"),  # ノード数が128の層を追加。活性化関数はReLU関数。\n",
    "        Dense(1, activation=\"linear\"),  # ノード数が1の層を追加。活性化関数は線形関数。\n",
    "    ]\n",
    ")\n",
    "\n",
    "model.compile(loss=\"mean_squared_error\", optimizer=\"adam\")\n",
    "\n",
    "#  トレーニング\n",
    "history = model.fit(x=x_train, y=t_train, validation_data=(x_valid, t_valid), epochs=500, verbose=0)\n",
    "\n",
    "# ロス関数の推移を取得します\n",
    "loss_train = history.history[\"loss\"]\n",
    "loss_valid = history.history[\"val_loss\"]\n",
    "\n",
    "# Figureの作成 (キャンバスの作成)\n",
    "fig, ax = plt.subplots(2, 1, figsize=(6, 9))\n",
    "\n",
    "# データ点をプロット\n",
    "ax[0].scatter(x_train, t_train, s=10, c=\"black\", label=\"training data\")\n",
    "ax[0].scatter(x_valid, t_valid, s=10, c=\"orange\", label=\"validation data\")\n",
    "ax[0].plot(x_grid, model(x_grid), c=\"red\", label=\"prediction\")\n",
    "ax[0].plot(x_grid, np.sin(x_grid), c=\"blue\", label=\"y=sin(x)\")\n",
    "ax[0].legend()\n",
    "\n",
    "# ロス関数の推移をプロット\n",
    "ax[1].plot(loss_train, label=\"loss (train)\")\n",
    "ax[1].plot(loss_valid, label=\"loss (valid)\")\n",
    "ax[1].set_xlabel(\"epochs\")\n",
    "ax[1].set_ylabel(\"loss\")\n",
    "ax[1].legend()\n",
    "\n",
    "# 図を表示\n",
    "plt.show()"
   ]
  },
  {
   "cell_type": "markdown",
   "metadata": {},
   "source": [
    "## ドロップアウト (Dropout)\n",
    "\n",
    "ドロップアウトは、学習時に、ランダムにノードを消すという操作をすることで、表現能力を抑制する手法です。\n",
    "この操作は、アンサンブル学習を擬似的に行っていると見ることもできます。\n",
    "\n",
    "この操作もKerasの関数を用いることで簡単に実装することができます。\n",
    "\n",
    "https://www.tensorflow.org/api_docs/python/tf/keras/layers/Dropout\n",
    "\n",
    "```python\n",
    "Dropout(rate=0.3)\n",
    "```\n",
    "ここで、消すノードの割合を`rate`で指定します。0だと、ノードは全く消されません。1.0だと、全てのノードが消されます。\n",
    "\n",
    "ここでは、MLPの各層の後にドロップアウト層を入れることにします。"
   ]
  },
  {
   "cell_type": "code",
   "execution_count": null,
   "metadata": {},
   "outputs": [],
   "source": [
    "# モデルの定義\n",
    "from tensorflow.keras.models import Sequential\n",
    "from tensorflow.keras.layers import Input, Dense, Dropout\n",
    "\n",
    "model = Sequential(\n",
    "    [\n",
    "        Input(shape=(1,)),\n",
    "        Dense(128, activation=\"relu\"),  # ノード数が128の層を追加。活性化関数はReLU関数。\n",
    "        Dropout(rate=0.3),  # 30%の確率でノードの値を0にする。\n",
    "        Dense(128, activation=\"relu\"),  # ノード数が128の層を追加。活性化関数はReLU関数。\n",
    "        Dropout(rate=0.3),  # 30%の確率でノードの値を0にする。\n",
    "        Dense(128, activation=\"relu\"),  # ノード数が128の層を追加。活性化関数はReLU関数。\n",
    "        Dropout(rate=0.3),  # 30%の確率でノードの値を0にする。\n",
    "        Dense(128, activation=\"relu\"),  # ノード数が128の層を追加。活性化関数はReLU関数。\n",
    "        Dropout(rate=0.3),  # 30%の確率でノードの値を0にする。\n",
    "        Dense(128, activation=\"relu\"),  # ノード数が128の層を追加。活性化関数はReLU関数。\n",
    "        Dropout(rate=0.3),  # 30%の確率でノードの値を0にする。\n",
    "        Dense(1, activation=\"linear\"),  # ノード数が1の層を追加。活性化関数は線形関数。\n",
    "    ]\n",
    ")\n",
    "\n",
    "model.compile(loss=\"mean_squared_error\", optimizer=\"adam\")\n",
    "\n",
    "#  トレーニング\n",
    "history = model.fit(x=x_train, y=t_train, validation_data=(x_valid, t_valid), epochs=500, verbose=0)\n",
    "\n",
    "# ロス関数の推移を取得します\n",
    "loss_train = history.history[\"loss\"]\n",
    "loss_valid = history.history[\"val_loss\"]\n",
    "\n",
    "# Figureの作成 (キャンバスの作成)\n",
    "fig, ax = plt.subplots(2, 1, figsize=(6, 9))\n",
    "\n",
    "# データ点をプロット\n",
    "ax[0].scatter(x_train, t_train, s=10, c=\"black\", label=\"training data\")\n",
    "ax[0].scatter(x_valid, t_valid, s=10, c=\"orange\", label=\"validation data\")\n",
    "ax[0].plot(x_grid, model(x_grid), c=\"red\", label=\"prediction\")\n",
    "ax[0].plot(x_grid, np.sin(x_grid), c=\"blue\", label=\"y=sin(x)\")\n",
    "ax[0].legend()\n",
    "\n",
    "# ロス関数の推移をプロット\n",
    "ax[1].plot(loss_train, label=\"loss (train)\")\n",
    "ax[1].plot(loss_valid, label=\"loss (valid)\")\n",
    "ax[1].set_xlabel(\"epochs\")\n",
    "ax[1].set_ylabel(\"loss\")\n",
    "ax[1].legend()\n",
    "\n",
    "# 図を表示\n",
    "plt.show()"
   ]
  },
  {
   "cell_type": "markdown",
   "metadata": {},
   "source": [
    "トレーニングデータに対する誤差関数が大きくふらついていることがわかります。\n",
    "これは、消されるノードが毎回ランダムに選ばれるためです。\n",
    "一方で、検証用データではばらつきは比較的小さくなっています。\n",
    "これは、Kerasの実装では、検証用データを使ってモデルの予測をする際は、全てのノードを使うようになっているためです。"
   ]
  },
  {
   "cell_type": "markdown",
   "metadata": {},
   "source": [
    "ドロップアウトの`rate`の値を変えたり、ドロップアウトの位置を変えると、モデルの予測はどのように変化するでしょうか？"
   ]
  }
 ],
 "metadata": {
  "kernelspec": {
   "display_name": "deeplearning",
   "language": "python",
   "name": "deeplearning"
  },
  "language_info": {
   "codemirror_mode": {
    "name": "ipython",
    "version": 3
   },
   "file_extension": ".py",
   "mimetype": "text/x-python",
   "name": "python",
   "nbconvert_exporter": "python",
   "pygments_lexer": "ipython3",
   "version": "3.11.9"
  }
 },
 "nbformat": 4,
 "nbformat_minor": 4
}
