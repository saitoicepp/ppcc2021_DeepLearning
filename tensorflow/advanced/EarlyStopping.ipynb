{
 "cells": [
  {
   "cell_type": "markdown",
   "metadata": {},
   "source": [
    "# 早期終了 (Early stopping)"
   ]
  },
  {
   "cell_type": "code",
   "execution_count": null,
   "metadata": {},
   "outputs": [],
   "source": [
    "# Tensorflowが使うCPUの数を制限します。(VMを使う場合)\n",
    "%env OMP_NUM_THREADS=1\n",
    "%env TF_NUM_INTEROP_THREADS=1\n",
    "%env TF_NUM_INTRAOP_THREADS=1\n",
    "\n",
    "from tensorflow.config import threading\n",
    "num_threads = 1\n",
    "threading.set_inter_op_parallelism_threads(num_threads)\n",
    "threading.set_intra_op_parallelism_threads(num_threads)\n",
    "\n",
    "#ライブラリのインポート\n",
    "%matplotlib inline\n",
    "import numpy as np\n",
    "import matplotlib.pyplot as plt\n",
    "import utils"
   ]
  },
  {
   "cell_type": "markdown",
   "metadata": {},
   "source": [
    "## 過学習(Overtraining)の例\n",
    "### データ点の生成\n",
    "sin関数に0.3の大きさのガウシアンノイズがのったデータを考えます。データ数は30にします。"
   ]
  },
  {
   "cell_type": "code",
   "execution_count": null,
   "metadata": {},
   "outputs": [],
   "source": [
    "# データ点の取得\n",
    "x, t = utils.dataset_overtraining(n=30, noise_scale=0.3)\n",
    "\n",
    "# Figureの作成 (キャンバスの作成)\n",
    "fig, ax = plt.subplots()\n",
    "\n",
    "# データ点をプロット\n",
    "ax.scatter(x, t, s=10, c=\"black\", label=\"data\")  # データ点のプロット\n",
    "x_grid = np.linspace(-np.pi, np.pi, 100)\n",
    "ax.plot(x_grid, np.sin(x_grid), c=\"blue\", label=\"y=sin(x)\")\n",
    "ax.legend()\n",
    "\n",
    "# 図を表示\n",
    "plt.show()"
   ]
  },
  {
   "cell_type": "markdown",
   "metadata": {},
   "source": [
    "### デモに用いる深層学習モデル\n",
    "過学習の様子を見るために、パラメータ数の多いモデルを使ってフィットをしてみます。\n",
    "ここでは、ノード数が128の隠れ層を5層重ねた多層パーセプトロンを使用します。\n",
    "活性化関数としてはReLUを使い、モデルの出力の直前のノードは、活性化関数を使用しないことにします。\n",
    "誤差関数は二乗和誤差を使い、最適化関数としてadamを使用します。"
   ]
  },
  {
   "cell_type": "code",
   "execution_count": null,
   "metadata": {},
   "outputs": [],
   "source": [
    "# モデルの定義\n",
    "from tensorflow.keras.models import Sequential\n",
    "from tensorflow.keras.layers import Input, Dense\n",
    "\n",
    "model = Sequential(\n",
    "    [\n",
    "        Input(shape=(1,)),\n",
    "        Dense(128, activation=\"relu\"),  # ノード数が128の層を追加。活性化関数はReLU関数。\n",
    "        Dense(128, activation=\"relu\"),  # ノード数が128の層を追加。活性化関数はReLU関数。\n",
    "        Dense(128, activation=\"relu\"),  # ノード数が128の層を追加。活性化関数はReLU関数。\n",
    "        Dense(128, activation=\"relu\"),  # ノード数が128の層を追加。活性化関数はReLU関数。\n",
    "        Dense(128, activation=\"relu\"),  # ノード数が128の層を追加。活性化関数はReLU関数。\n",
    "        Dense(1, activation=\"linear\"),  # ノード数が1の層を追加。活性化関数は線形関数。\n",
    "    ]\n",
    ")\n",
    "\n",
    "# 誤差関数として二乗和誤差、最適化関数としてadamを使用\n",
    "model.compile(loss=\"mean_squared_error\", optimizer=\"adam\")\n",
    "\n",
    "# トレーニング\n",
    "model.fit(x=x, y=t, epochs=1000, verbose=0)\n",
    "\n",
    "# Figureの作成 (キャンバスの作成)\n",
    "fig, ax = plt.subplots()\n",
    "\n",
    "# データ点をプロット\n",
    "ax.scatter(x, t, s=10, c=\"black\", label=\"data\")  # データ点のプロット\n",
    "ax.plot(x_grid, model(x_grid), c=\"red\", label=\"prediction\")\n",
    "ax.plot(x_grid, np.sin(x_grid), c=\"blue\", label=\"y=sin(x)\")\n",
    "ax.legend()\n",
    "\n",
    "# 図を表示\n",
    "plt.show()"
   ]
  },
  {
   "cell_type": "markdown",
   "metadata": {},
   "source": [
    "モデルの出力(赤線)がトレーニングデータ点に強くフィットしてしまっていることがわかります。"
   ]
  },
  {
   "cell_type": "markdown",
   "metadata": {},
   "source": [
    "## データの分割\n",
    "Early stoppingでは データセットをランダムに2つに分割します。\n",
    "一方のデータセット(training dataset)でトレーニングをし、もう一方のデータセット(validation dataset)で過学習がおこらないかを確認します。\n",
    "サンプルの分割は手で行うこともできますが、scikit learnというライブラリに便利な関数が用意されているので、これを用いることにします。"
   ]
  },
  {
   "cell_type": "code",
   "execution_count": null,
   "metadata": {},
   "outputs": [],
   "source": [
    "from sklearn.model_selection import train_test_split\n",
    "\n",
    "x_train, x_valid, t_train, t_valid = train_test_split(x, t, test_size=0.30, random_state=0)"
   ]
  },
  {
   "cell_type": "markdown",
   "metadata": {},
   "source": [
    "上の例では、全体の70%をトレーニングデータ、全体の30%を検証用データ(validation sample)として分割しています。\n",
    "\n",
    "トレーニングデータ、検証用データをプロットすると下図のようになります。\n",
    "黒点がトレーニングデータ、オレンジ点が検証用データです。\n",
    "全データセットからランダムに分割されていることがわかります。"
   ]
  },
  {
   "cell_type": "code",
   "execution_count": null,
   "metadata": {},
   "outputs": [],
   "source": [
    "# Figureの作成 (キャンバスの作成)\n",
    "fig, ax = plt.subplots()\n",
    "\n",
    "# データ点をプロット\n",
    "ax.scatter(x_train, t_train, s=10, c=\"black\", label=\"training data\")\n",
    "ax.scatter(x_valid, t_valid, s=10, c=\"orange\", label=\"validation data\")\n",
    "ax.plot(x_grid, np.sin(x_grid), c=\"blue\", label=\"y=sin(x)\")\n",
    "ax.legend()\n",
    "\n",
    "# 図を表示\n",
    "plt.show()"
   ]
  },
  {
   "cell_type": "markdown",
   "metadata": {},
   "source": [
    "検証用データに対してロスの値を監視をするには、`fit`関数の中で、`validation_data`引数に検証用データを与えます。"
   ]
  },
  {
   "cell_type": "code",
   "execution_count": null,
   "metadata": {
    "tags": []
   },
   "outputs": [],
   "source": [
    "# モデルの定義\n",
    "from tensorflow.keras.models import Sequential\n",
    "from tensorflow.keras.layers import Input, Dense\n",
    "\n",
    "model = Sequential(\n",
    "    [\n",
    "        Input(shape=(1,)),\n",
    "        Dense(128, activation=\"relu\"),  # ノード数が128の層を追加。活性化関数はReLU関数。\n",
    "        Dense(128, activation=\"relu\"),  # ノード数が128の層を追加。活性化関数はReLU関数。\n",
    "        Dense(128, activation=\"relu\"),  # ノード数が128の層を追加。活性化関数はReLU関数。\n",
    "        Dense(128, activation=\"relu\"),  # ノード数が128の層を追加。活性化関数はReLU関数。\n",
    "        Dense(128, activation=\"relu\"),  # ノード数が128の層を追加。活性化関数はReLU関数。\n",
    "        Dense(1, activation=\"linear\"),  # ノード数が1の層を追加。活性化関数は線形関数。\n",
    "    ]\n",
    ")\n",
    "\n",
    "model.compile(loss=\"mean_squared_error\", optimizer=\"adam\")\n",
    "\n",
    "# トレーニング\n",
    "history = model.fit(x=x_train, y=t_train, validation_data=(x_valid, t_valid), epochs=300, verbose=0)\n",
    "\n",
    "# ロス関数の推移を取得します\n",
    "loss_train = history.history[\"loss\"]\n",
    "loss_valid = history.history[\"val_loss\"]"
   ]
  },
  {
   "cell_type": "markdown",
   "metadata": {},
   "source": [
    "結果をプロットしてみます。"
   ]
  },
  {
   "cell_type": "code",
   "execution_count": null,
   "metadata": {},
   "outputs": [],
   "source": [
    "# Figureの作成 (キャンバスの作成)\n",
    "fig, ax = plt.subplots(2, 1, figsize=(6, 9))\n",
    "\n",
    "# データ点をプロット\n",
    "ax[0].scatter(x_train, t_train, s=10, c=\"black\", label=\"training data\")\n",
    "ax[0].scatter(x_valid, t_valid, s=10, c=\"orange\", label=\"validation data\")\n",
    "ax[0].plot(x_grid, model(x_grid), c=\"red\", label=\"prediction\")\n",
    "ax[0].plot(x_grid, np.sin(x_grid), c=\"blue\", label=\"y=sin(x)\")\n",
    "ax[0].legend()\n",
    "\n",
    "# ロス関数の推移をプロット\n",
    "ax[1].plot(loss_train, label=\"loss (train)\")\n",
    "ax[1].plot(loss_valid, label=\"loss (valid)\")\n",
    "ax[1].set_xlabel(\"epochs\")\n",
    "ax[1].set_ylabel(\"loss\")\n",
    "ax[1].legend()\n",
    "\n",
    "# 図を表示\n",
    "plt.show()"
   ]
  },
  {
   "cell_type": "markdown",
   "metadata": {},
   "source": [
    "学習に使った黒点に沿うようにモデルがフィットされていることがわかります。\n",
    "一方で、検証用の点(オレンジ色の点)に対しての予測値は大きくずれてしまっています。\n",
    "\n",
    "誤差関数の値(loos)の推移を見ると、epoch数が およそ80 あたりで、検証用データの誤差関数の値が下がらなくなってしまってしまい、学習を進めるにつれ、検証用データに対する誤差はむしろ大きくなってしまっています。\n",
    "これが過学習を起こした状態で、トレーニングデータに強く学習してしまったため、本来の目的である汎化誤差が大きくなってしまっています。\n",
    "\n",
    "これは、検証用データの誤差関数値がそれ以上下がらなくなった点で学習を止めることで緩和することができます。\n",
    "上の例だとおよそ80 エポックぐらいで誤差関数値が上昇に転じているので、このあたりで学習を止めることにしましょう。"
   ]
  },
  {
   "cell_type": "code",
   "execution_count": null,
   "metadata": {},
   "outputs": [],
   "source": [
    "# モデルの定義\n",
    "from tensorflow.keras.models import Sequential\n",
    "from tensorflow.keras.layers import Input, Dense\n",
    "\n",
    "model = Sequential(\n",
    "    [\n",
    "        Input(shape=(1,)),\n",
    "        Dense(128, activation=\"relu\"),  # ノード数が128の層を追加。活性化関数はReLU関数。\n",
    "        Dense(128, activation=\"relu\"),  # ノード数が128の層を追加。活性化関数はReLU関数。\n",
    "        Dense(128, activation=\"relu\"),  # ノード数が128の層を追加。活性化関数はReLU関数。\n",
    "        Dense(128, activation=\"relu\"),  # ノード数が128の層を追加。活性化関数はReLU関数。\n",
    "        Dense(128, activation=\"relu\"),  # ノード数が128の層を追加。活性化関数はReLU関数。\n",
    "        Dense(1, activation=\"linear\"),  # ノード数が1の層を追加。活性化関数は線形関数。\n",
    "    ]\n",
    ")\n",
    "\n",
    "model.compile(loss=\"mean_squared_error\", optimizer=\"adam\")\n",
    "\n",
    "# トレーニング\n",
    "history = model.fit(x=x_train, y=t_train, validation_data=(x_valid, t_valid), epochs=80, verbose=0)\n",
    "\n",
    "# ロス関数の推移を取得します\n",
    "loss_train = history.history[\"loss\"]\n",
    "loss_valid = history.history[\"val_loss\"]\n",
    "\n",
    "# Figureの作成 (キャンバスの作成)\n",
    "fig, ax = plt.subplots(2, 1, figsize=(6, 9))\n",
    "\n",
    "# データ点をプロット\n",
    "ax[0].scatter(x_train, t_train, s=10, c=\"black\", label=\"training data\")\n",
    "ax[0].scatter(x_valid, t_valid, s=10, c=\"orange\", label=\"validation data\")\n",
    "ax[0].plot(x_grid, model(x_grid), c=\"red\", label=\"prediction\")\n",
    "ax[0].plot(x_grid, np.sin(x_grid), c=\"blue\", label=\"y=sin(x)\")\n",
    "ax[0].legend()\n",
    "\n",
    "# ロス関数の推移をプロット\n",
    "ax[1].plot(loss_train, label=\"loss (train)\")\n",
    "ax[1].plot(loss_valid, label=\"loss (valid)\")\n",
    "ax[1].set_xlabel(\"epochs\")\n",
    "ax[1].set_ylabel(\"loss\")\n",
    "ax[1].legend()\n",
    "\n",
    "# 図を表示\n",
    "plt.show()"
   ]
  },
  {
   "cell_type": "markdown",
   "metadata": {},
   "source": [
    "今度はどうなったでしょうか？おそらく、過学習が緩和されたのではないかと思います。\n",
    "\n",
    "このように、学習を途中で打ち切るような手法を早期終了(Early Stopping)と言います。\n",
    "Keras/Tensorflowでは、これが簡単に行えるようにコールバックが用意されています。\n",
    "\n",
    "https://www.tensorflow.org/api_docs/python/tf/keras/callbacks/EarlyStopping\n",
    "\n",
    "(他にもいろいろなコールバックが用意されています。コールバックは、学習の前後や学習の途中で追加で何か処理をしたい時に使います。)"
   ]
  },
  {
   "cell_type": "code",
   "execution_count": null,
   "metadata": {},
   "outputs": [],
   "source": [
    "from tensorflow.keras.callbacks import EarlyStopping\n",
    "\n",
    "es = EarlyStopping(patience=20, restore_best_weights=True)"
   ]
  },
  {
   "cell_type": "markdown",
   "metadata": {},
   "source": [
    "`patience`というのは、モニターしたい値(ここでは検証用データのロス)が何エポック下がらなくなったら学習を止めるか、を指定します。今はちょっと大きめの値の20としておきます。\n",
    "この値は問題・モデルによって調節するべき値です。小さすぎると、過学習を起こす前・学習が十分に行われていない段階で学習がストップしてしまいます。一方で、\b大きすぎると学習時間が余計にかかってしまいます。\n",
    "\n",
    "`restore_best_weights`がFalseだと、early stoppingが終わったときのモデルの重みがそのまま残ります。そのため、`restore_best_weights`がFalseかつ`patience`を大きくすると、過学習が起こってしまった値が記録されてしまいます。この値をTrueにしておくと、ロスが最小になったときのモデルの重みでモデルがアップデートされます。\n",
    "\n",
    "このコールバックを`fit` の引数として与えることで、Early stoppingが行われます。"
   ]
  },
  {
   "cell_type": "code",
   "execution_count": null,
   "metadata": {},
   "outputs": [],
   "source": [
    "# モデルの定義\n",
    "from tensorflow.keras.models import Sequential\n",
    "from tensorflow.keras.layers import Input, Dense\n",
    "from tensorflow.keras.callbacks import EarlyStopping\n",
    "\n",
    "model = Sequential(\n",
    "    [\n",
    "        Input(shape=(1,)),\n",
    "        Dense(128, activation=\"relu\"),  # ノード数が128の層を追加。活性化関数はReLU関数。\n",
    "        Dense(128, activation=\"relu\"),  # ノード数が128の層を追加。活性化関数はReLU関数。\n",
    "        Dense(128, activation=\"relu\"),  # ノード数が128の層を追加。活性化関数はReLU関数。\n",
    "        Dense(128, activation=\"relu\"),  # ノード数が128の層を追加。活性化関数はReLU関数。\n",
    "        Dense(128, activation=\"relu\"),  # ノード数が128の層を追加。活性化関数はReLU関数。\n",
    "        Dense(1, activation=\"linear\"),  # ノード数が1の層を追加。活性化関数は線形関数。\n",
    "    ]\n",
    ")\n",
    "\n",
    "model.compile(loss=\"mean_squared_error\", optimizer=\"adam\")\n",
    "\n",
    "# 早期終了(Early stopping)コールバック\n",
    "es = EarlyStopping(patience=20, restore_best_weights=True)\n",
    "\n",
    "# トレーニング\n",
    "history = model.fit(\n",
    "    x=x_train,\n",
    "    y=t_train,\n",
    "    validation_data=(x_valid, t_valid),\n",
    "    epochs=500,\n",
    "    callbacks=es,  # ここでコールバックを指定します。\n",
    "    verbose=0,\n",
    ")\n",
    "\n",
    "print(\n",
    "    f\"stopped epoch = {es.stopped_epoch}, patience = {es.patience}, best epoch = {es.stopped_epoch - es.patience}\"\n",
    ")\n",
    "\n",
    "# ロス関数の推移を取得します\n",
    "loss_train = history.history[\"loss\"]\n",
    "loss_valid = history.history[\"val_loss\"]\n",
    "\n",
    "# Figureの作成 (キャンバスの作成)\n",
    "fig, ax = plt.subplots(2, 1, figsize=(6, 9))\n",
    "\n",
    "# データ点をプロット\n",
    "ax[0].scatter(x_train, t_train, s=10, c=\"black\", label=\"training data\")\n",
    "ax[0].scatter(x_valid, t_valid, s=10, c=\"orange\", label=\"validation data\")\n",
    "ax[0].plot(x_grid, model(x_grid), c=\"red\", label=\"prediction\")\n",
    "ax[0].plot(x_grid, np.sin(x_grid), c=\"blue\", label=\"y=sin(x)\")\n",
    "ax[0].legend()\n",
    "\n",
    "# ロス関数の推移をプロット\n",
    "ax[1].plot(loss_train, label=\"loss (train)\")\n",
    "ax[1].plot(loss_valid, label=\"loss (valid)\")\n",
    "ax[1].set_xlabel(\"epochs\")\n",
    "ax[1].set_ylabel(\"loss\")\n",
    "ax[1].legend()\n",
    "\n",
    "# 図を表示\n",
    "plt.show()"
   ]
  },
  {
   "cell_type": "markdown",
   "metadata": {},
   "source": [
    "指定した最大エポック数(500エポック)の前に学習が終了していると思います。また、過学習も緩和されています。"
   ]
  }
 ],
 "metadata": {
  "kernelspec": {
   "display_name": "env",
   "language": "python",
   "name": "python3"
  },
  "language_info": {
   "codemirror_mode": {
    "name": "ipython",
    "version": 3
   },
   "file_extension": ".py",
   "mimetype": "text/x-python",
   "name": "python",
   "nbconvert_exporter": "python",
   "pygments_lexer": "ipython3",
   "version": "3.11.9"
  }
 },
 "nbformat": 4,
 "nbformat_minor": 4
}
