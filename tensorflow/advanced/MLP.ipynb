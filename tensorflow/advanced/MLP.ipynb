{
 "cells": [
  {
   "cell_type": "code",
   "execution_count": null,
   "metadata": {},
   "outputs": [],
   "source": [
    "# Tensorflowが使うCPUの数を制限します。(VMを使う場合)\n",
    "%env OMP_NUM_THREADS=1\n",
    "%env TF_NUM_INTEROP_THREADS=1\n",
    "%env TF_NUM_INTRAOP_THREADS=1\n",
    "\n",
    "from tensorflow.config import threading\n",
    "num_threads = 1\n",
    "threading.set_inter_op_parallelism_threads(num_threads)\n",
    "threading.set_intra_op_parallelism_threads(num_threads)\n",
    "\n",
    "#ライブラリのインポート\n",
    "%matplotlib inline\n",
    "import numpy as np\n",
    "import matplotlib.pyplot as plt"
   ]
  },
  {
   "cell_type": "markdown",
   "metadata": {},
   "source": [
    "## MLP モデルのKerasによる実装\n",
    "基礎編で使った2次元データを基に、MLPモデルをTensorflow/Kerasで書いてみます。"
   ]
  },
  {
   "cell_type": "code",
   "execution_count": null,
   "metadata": {},
   "outputs": [],
   "source": [
    "\n",
    "# 二次元ガウス分布と一様分布\n",
    "def get_dataset_2():\n",
    "    from numpy.random import default_rng\n",
    "    rng = default_rng(seed=0)  # 今回はデータセットの乱数を固定させます。\n",
    "\n",
    "    num_signal = 100  # 生成するシグナルイベントの数\n",
    "    num_background = 1000  # 生成するバックグラウンドイベントの数\n",
    "\n",
    "    # データ点の生成\n",
    "    ## 平均(x1,x2) = (1.0, 0.0)、分散=1の２次元ガウス分布\n",
    "    x_sig = rng.multivariate_normal(mean=[1.0, 0],\n",
    "                                    cov=[[1, 0], [0, 1]],\n",
    "                                    size=num_signal)\n",
    "    t_sig = np.ones((num_signal, 1))  # Signalは1にラベリング\n",
    "\n",
    "    ## (-5, +5)の一様分布\n",
    "    x_bg = rng.uniform(low=-5, high=5, size=(num_background, 2))\n",
    "    t_bg = np.zeros((num_background, 1))  # Backgroundは0にラベリング\n",
    "\n",
    "    # 2つのラベルを持つ学習データを1つにまとめる\n",
    "    x = np.concatenate([x_sig, x_bg])\n",
    "    t = np.concatenate([t_sig, t_bg])\n",
    "\n",
    "    # データをランダムに並び替える\n",
    "    p = rng.permutation(len(x))\n",
    "    x, t = x[p], t[p]\n",
    "\n",
    "    return x, t\n",
    "\n",
    "\n",
    "# ラベル t={0,1}を持つデータ点のプロット\n",
    "def plot_datapoint(x, t):\n",
    "    # シグナル/バックグラウンドの抽出\n",
    "    xS = x[t[:, 0] == 1]  # シグナルのラベルだけを抽出\n",
    "    xB = x[t[:, 0] == 0]  # バックグラウンドのラベルだけを抽出\n",
    "\n",
    "    # プロット\n",
    "    plt.scatter(xS[:, 0], xS[:, 1], label='Signal', c='red', s=10)  # シグナルをプロット\n",
    "    plt.scatter(xB[:, 0], xB[:, 1], label='Background', c='blue', s=10)  # バックグラウンドをプロット\n",
    "    plt.xlabel('x1')  # x軸ラベルの設定\n",
    "    plt.ylabel('x2')  # y軸ラベルの設定\n",
    "    plt.legend()  # legendの表示\n",
    "    plt.show()\n",
    "\n",
    "\n",
    "# prediction関数 の等高線プロット (fill)\n",
    "def plot_prediction(prediction, *args):\n",
    "    # 等高線を描くためのメッシュの生成\n",
    "    x1, x2 = np.mgrid[-5:5:100j, -5:5:100j]  # x1 = (-5, 5), x2 = (-5, 5) の範囲で100点x100点のメッシュを作成\n",
    "    x1 = x1.flatten()  # 二次元配列を一次元配列に変換 ( shape=(100, 100) => shape(10000, ))\n",
    "    x2 = x2.flatten()  # 二次元配列を一次元配列に変換 ( shape=(100, 100) => shape(10000, ))\n",
    "    x = np.array([x1, x2]).T\n",
    "\n",
    "    #  関数predictionを使って入力xから出力yを計算し、等高線プロットを作成\n",
    "    y = prediction(x, *args)\n",
    "    cs = plt.tricontourf(x[:, 0], x[:, 1], y.flatten(), levels=10)\n",
    "    plt.colorbar(cs)\n"
   ]
  },
  {
   "cell_type": "markdown",
   "metadata": {},
   "source": [
    "中間層が2層、それぞれの層のノード数がそれぞれ3つ、1つのMLPを構成します。"
   ]
  },
  {
   "cell_type": "code",
   "execution_count": null,
   "metadata": {},
   "outputs": [],
   "source": [
    "from tensorflow.keras.models import Sequential\n",
    "from tensorflow.keras.layers import Input, Dense\n",
    "from tensorflow.keras.optimizers import SGD\n",
    "\n",
    "# データ点の取得\n",
    "x, t = get_dataset_2()\n",
    "\n",
    "# モデルの定義\n",
    "model = Sequential([\n",
    "    Input(shape=(2,)),\n",
    "    Dense(units=3, activation='sigmoid'),  # ノード数が3の層を追加。活性化関数はシグモイド関数。\n",
    "    Dense(units=1, activation='sigmoid')  # ノード数が1の層を追加。活性化関数はシグモイド関数。\n",
    "])\n",
    "\n",
    "#  誤差関数としてクロスエントロピーを指定。最適化手法は(確率的)勾配降下法\n",
    "model.compile(loss='binary_crossentropy', optimizer=SGD(learning_rate=1.0))\n",
    "\n",
    "#  トレーニング\n",
    "model.fit(\n",
    "    x=x,\n",
    "    y=t,\n",
    "    batch_size=len(x),  # バッチサイズ。一回のステップで全てのデータを使うようにする。\n",
    "    epochs=3000,  # 学習のステップ数\n",
    "    verbose=0,  # 1とするとステップ毎に誤差関数の値などが表示される\n",
    ")\n",
    "\n",
    "# プロット\n",
    "## パーセプトロンの出力を等高線プロット\n",
    "plot_prediction(model.predict)\n",
    "\n",
    "## データ点をプロット\n",
    "plot_datapoint(x, t)\n"
   ]
  },
  {
   "cell_type": "markdown",
   "metadata": {},
   "source": [
    "`Dense` は1層の隠れ層を作成する関数です。\n",
    "`Dense`の詳細は[公式のドキュメント](https://www.tensorflow.org/api_docs/python/tf/keras/layers/Dense)を参照することでわかります。\n",
    "ドキュメントを見ると、\n",
    "```python\n",
    "tf.keras.layers.Dense(\n",
    "    units, activation=None, use_bias=True,\n",
    "    kernel_initializer='glorot_uniform',\n",
    "    bias_initializer='zeros', kernel_regularizer=None,\n",
    "    bias_regularizer=None, activity_regularizer=None, kernel_constraint=None,\n",
    "    bias_constraint=None, **kwargs\n",
    ")\n",
    "```\n",
    "のような引数を持つことがわかります。また、各引数の意味は、\n",
    "* `units`:\tPositive integer, dimensionality of the output space.\n",
    "* `activation`:\tActivation function to use. If you don't specify anything, no activation is applied (ie. \"linear\" activation: a(x) = x).\n",
    "* `use_bias`:\tBoolean, whether the layer uses a bias vector.\n",
    "* `kernel_initializer`:\tInitializer for the kernel weights matrix.\n",
    "* `bias_initializer`:\tInitializer for the bias vector.\n",
    "* `kernel_regularizer`:\tRegularizer function applied to the kernel weights matrix.\n",
    "* `bias_regularizer`:\tRegularizer function applied to the bias vector.\n",
    "* `activity_regularizer`:\tRegularizer function applied to the output of the layer (its \"activation\").\n",
    "* `kernel_constraint`:\tConstraint function applied to the kernel weights matrix.\n",
    "* `bias_constraint`:\tConstraint function applied to the bias vector.\n",
    "\n",
    "のようになっています。隠れ層のノード数、重みの初期化方法、正規化方法、制約方法などを指定できることがわかります。\n",
    "知らない関数を使うときは、必ずドキュメントを読んで、関数の入出力、引数、デフォルトの値などを確認するようにしましょう。\n",
    "例えばこのDense関数は\n",
    "```python\n",
    "Dense(units=10)\n",
    "```\n",
    "のように、`units`(ノード数)だけを指定すれば動作しますが、その場合、暗に活性化関数は適用されず、重みの初期化は`glorot_uniform`で行われます。\n",
    "\n",
    "`input_dim`は最初の層だけに対して必要となります。\n"
   ]
  },
  {
   "cell_type": "markdown",
   "metadata": {},
   "source": [
    "Keras Model (上の例では`model`)は`summary`関数を使用することで、その構成が確認できます。"
   ]
  },
  {
   "cell_type": "code",
   "execution_count": null,
   "metadata": {},
   "outputs": [],
   "source": [
    "model.summary()"
   ]
  },
  {
   "cell_type": "markdown",
   "metadata": {},
   "source": [
    "このモデルは、１層目の隠れ層の出力が3, 学習可能なパラメータ数が9, 2層目の隠れ層の出力が1, 学習可能なパラメータ数が4 であることがわかります。\"Output Shape\"の\"None\"はサイズが未確定であることを表しています。ここでは、バッチサイズ用の次元になります。"
   ]
  },
  {
   "cell_type": "markdown",
   "metadata": {},
   "source": [
    "モデルの構成図を作ってくれる便利なAPIも存在します。"
   ]
  },
  {
   "cell_type": "code",
   "execution_count": null,
   "metadata": {},
   "outputs": [],
   "source": [
    "from tensorflow.keras.utils import plot_model\n",
    "plot_model(model, to_file='model.png', show_shapes=True)"
   ]
  },
  {
   "cell_type": "markdown",
   "metadata": {},
   "source": [
    "層の数を増やしてみましょう。新たな層を重ねることで層の数を増やすことができます。\n",
    "```python\n",
    "model = Sequential([\n",
    "    Dense(units=3, activation='sigmoid', input_dim=2),  # ノード数が3の層を追加。活性化関数はシグモイド関数。\n",
    "    Dense(units=3, activation='sigmoid')  # ノード数が3の層を追加。活性化関数はシグモイド関数。\n",
    "    Dense(units=3, activation='sigmoid')  # ノード数が3の層を追加。活性化関数はシグモイド関数。\n",
    "    Dense(units=1, activation='sigmoid')  # ノード数が1の層を追加。活性化関数はシグモイド関数。\n",
    "])\n",
    "```"
   ]
  },
  {
   "cell_type": "code",
   "execution_count": null,
   "metadata": {},
   "outputs": [],
   "source": [
    "model = Sequential([\n",
    "    Input(shape=(2,)),\n",
    "    Dense(units=3, activation='sigmoid'),  # ノード数が3の層を追加。活性化関数はシグモイド関数。\n",
    "    Dense(units=3, activation='sigmoid'),  # ノード数が3の層を追加。活性化関数はシグモイド関数。\n",
    "    Dense(units=3, activation='sigmoid'),  # ノード数が3の層を追加。活性化関数はシグモイド関数。\n",
    "    Dense(units=3, activation='sigmoid'),  # ノード数が3の層を追加。活性化関数はシグモイド関数。\n",
    "    Dense(units=3, activation='sigmoid'),  # ノード数が3の層を追加。活性化関数はシグモイド関数。\n",
    "    Dense(units=1, activation='sigmoid')  # ノード数が1の層を追加。活性化関数はシグモイド関数。\n",
    "])\n",
    "\n",
    "model.summary()"
   ]
  },
  {
   "cell_type": "markdown",
   "metadata": {},
   "source": [
    "モデルのパラメータの数が増えていることがわかります。\n",
    "\n",
    "次に、ノードの数を増やしてみましょう。"
   ]
  },
  {
   "cell_type": "code",
   "execution_count": null,
   "metadata": {},
   "outputs": [],
   "source": [
    "model = Sequential([\n",
    "    Input(shape=(2,)),\n",
    "    Dense(units=128, activation='sigmoid'),  # ノード数が3の層を追加。活性化関数はシグモイド関数。\n",
    "    Dense(units=128, activation='sigmoid'),  # ノード数が128の層を追加。活性化関数はシグモイド関数。\n",
    "    Dense(units=128, activation='sigmoid'),  # ノード数が128の層を追加。活性化関数はシグモイド関数。\n",
    "    Dense(units=128, activation='sigmoid'),  # ノード数が128の層を追加。活性化関数はシグモイド関数。\n",
    "    Dense(units=128, activation='sigmoid'),  # ノード数が128の層を追加。活性化関数はシグモイド関数。\n",
    "    Dense(units=1, activation='sigmoid')  # ノード数が1の層を追加。活性化関数はシグモイド関数。\n",
    "])\n",
    "\n",
    "model.summary()"
   ]
  },
  {
   "cell_type": "markdown",
   "metadata": {},
   "source": [
    "パラメータの数が大きく増えたことがわかります。\n",
    "MLPにおいては、パラメータの数は、ノード数の2乗で増加します。"
   ]
  },
  {
   "cell_type": "markdown",
   "metadata": {},
   "source": [
    "このモデルを使って学習させてみましょう。"
   ]
  },
  {
   "cell_type": "code",
   "execution_count": null,
   "metadata": {},
   "outputs": [],
   "source": [
    "#  誤差関数としてクロスエントロピーを指定。最適化手法は(確率的)勾配降下法\n",
    "model.compile(loss='binary_crossentropy', optimizer=SGD(learning_rate=0.01))\n",
    "\n",
    "#  トレーニング\n",
    "model.fit(\n",
    "    x=x,\n",
    "    y=t,\n",
    "    batch_size=len(x),  # バッチサイズ。一回のステップで全てのデータを使うようにする。\n",
    "    epochs=3000,  # 学習のステップ数\n",
    "    verbose=0,  # 1とするとステップ毎に誤差関数の値などが表示される\n",
    ")\n",
    "\n",
    "# プロット\n",
    "## パーセプトロンの出力を等高線プロット\n",
    "plot_prediction(model.predict)\n",
    "\n",
    "## データ点をプロット\n",
    "plot_datapoint(x, t)"
   ]
  },
  {
   "cell_type": "markdown",
   "metadata": {},
   "source": [
    "これまでは活性化関数としてシグモイド関数(`sigmoid`)を使っていました。昔はsigmoid関数やtanh関数がよく使われていましたが、最近はReLU関数がよく使われます。\n",
    "$$\n",
    "  ReLU = \\begin{cases}\n",
    "    x & (x \\geq 0) \\\\\n",
    "    0 & (x < 0)\n",
    "  \\end{cases}\n",
    "$$\n",
    "\n",
    "ReLUが好まれる理由については、別の資料を参照してください。\n",
    "\n",
    "ReLUを使って学習がどのようになるか確認してみましょう。"
   ]
  },
  {
   "cell_type": "code",
   "execution_count": null,
   "metadata": {},
   "outputs": [],
   "source": [
    "from tensorflow.keras.models import Sequential\n",
    "from tensorflow.keras.layers import Dense\n",
    "from tensorflow.keras.optimizers import SGD\n",
    "\n",
    "# データ点の取得\n",
    "x, t = get_dataset_2()\n",
    "\n",
    "# モデルの定義\n",
    "model = Sequential([\n",
    "    Input(shape=(2,)),\n",
    "    Dense(units=128, activation='relu'),  # ノード数が3の層を追加。活性化関数はReLU。\n",
    "    Dense(units=128, activation='relu'),  # ノード数が128の層を追加。活性化関数はReLU。\n",
    "    Dense(units=128, activation='relu'),  # ノード数が128の層を追加。活性化関数はReLU。\n",
    "    Dense(units=128, activation='relu'),  # ノード数が128の層を追加。活性化関数はReLU。\n",
    "    Dense(units=128, activation='relu'),  # ノード数が128の層を追加。活性化関数はReLU。\n",
    "    Dense(units=1, activation='sigmoid')  # ノード数が1の層を追加。活性化関数はシグモイド関数。\n",
    "])\n",
    "\n",
    "#  誤差関数としてクロスエントロピーを指定。最適化手法は(確率的)勾配降下法\n",
    "model.compile(loss='binary_crossentropy', optimizer=SGD(learning_rate=0.01))\n",
    "\n",
    "#  トレーニング\n",
    "model.fit(\n",
    "    x=x,\n",
    "    y=t,\n",
    "    batch_size=len(x),  # バッチサイズ。一回のステップで全てのデータを使うようにする。\n",
    "    epochs=3000,  # 学習のステップ数\n",
    "    verbose=0,  # 1とするとステップ毎に誤差関数の値などが表示される\n",
    ")\n",
    "\n",
    "# プロット\n",
    "## パーセプトロンの出力を等高線プロット\n",
    "plot_prediction(model.predict)\n",
    "\n",
    "## データ点をプロット\n",
    "plot_datapoint(x, t)"
   ]
  },
  {
   "cell_type": "markdown",
   "metadata": {},
   "source": [
    "深層学習をトレーニングするにあたって、最適化関数(optimizer)も非常に重要な要素です。\n",
    "確率的勾配降下法(SGD)の他によく使われるアルゴリズムとして adam があります。\n",
    "adamを使ってみると、どのようになるでしょうか。"
   ]
  },
  {
   "cell_type": "code",
   "execution_count": null,
   "metadata": {},
   "outputs": [],
   "source": [
    "from tensorflow.keras.models import Sequential\n",
    "from tensorflow.keras.layers import Dense\n",
    "from tensorflow.keras.optimizers import SGD\n",
    "\n",
    "# データ点の取得\n",
    "x, t = get_dataset_2()\n",
    "\n",
    "# モデルの定義\n",
    "model = Sequential([\n",
    "    Input(shape=(2,)),\n",
    "    Dense(units=128, activation='relu'),  # ノード数が3の層を追加。活性化関数はReLU。\n",
    "    Dense(units=128, activation='relu'),  # ノード数が128の層を追加。活性化関数はReLU。\n",
    "    Dense(units=128, activation='relu'),  # ノード数が128の層を追加。活性化関数はReLU。\n",
    "    Dense(units=128, activation='relu'),  # ノード数が128の層を追加。活性化関数はReLU。\n",
    "    Dense(units=128, activation='relu'),  # ノード数が128の層を追加。活性化関数はReLU。\n",
    "    Dense(units=1, activation='sigmoid')  # ノード数が1の層を追加。活性化関数はシグモイド関数。\n",
    "])\n",
    "\n",
    "#  誤差関数としてクロスエントロピーを指定。最適化手法は(確率的)勾配降下法\n",
    "model.compile(loss='binary_crossentropy', optimizer='adam')\n",
    "\n",
    "#  トレーニング\n",
    "model.fit(\n",
    "    x=x,\n",
    "    y=t,\n",
    "    batch_size=len(x),  # バッチサイズ。一回のステップで全てのデータを使うようにする。\n",
    "    epochs=3000,  # 学習のステップ数\n",
    "    verbose=0,  # 1とするとステップ毎に誤差関数の値などが表示される\n",
    ")\n",
    "\n",
    "# プロット\n",
    "## パーセプトロンの出力を等高線プロット\n",
    "plot_prediction(model.predict)\n",
    "\n",
    "## データ点をプロット\n",
    "plot_datapoint(x, t)"
   ]
  },
  {
   "cell_type": "markdown",
   "metadata": {},
   "source": [
    "## Keras モデルの定義方法\n",
    "Kerasモデルを定義する方法はいくつかあります。\n",
    "最も簡単なのが`Sequential`を使った方法で、これまでの例では全てこの方法でモデルを定義してきました。\n",
    "一方で、少し複雑なモデルを考えると、`Sequential`モデルで対応できなくなってきます。\n",
    "一例としてResidual Network(ResNet)で使われるskip connectionを考えてみます。\n",
    "skip connectionは\n",
    "$$\n",
    "y = f_2(f_1(x) + x)\n",
    "$$\n",
    "のように、入力を２つの経路に分け、片方はMLP、もう片方はそのまま後ろのレイヤーに接続するつなげ方です。\n",
    "このようなモデルは、途中入出力の分岐があるため、`Sequential`モデルでは実装できません。\n",
    "かわりに`Function API`を使うとこれを実装することができます。\n",
    "\n",
    "`Functional API`では以下のようにしてモデルを定義します。"
   ]
  },
  {
   "cell_type": "code",
   "execution_count": null,
   "metadata": {},
   "outputs": [],
   "source": [
    "from tensorflow.keras import Input, Model\n",
    "input = Input(shape=(2,))\n",
    "x = Dense(units=128, activation='relu')(input)\n",
    "x = Dense(units=128, activation='relu')(x)\n",
    "x = Dense(units=128, activation='relu')(x)\n",
    "x = Dense(units=128, activation='relu')(x)\n",
    "x = Dense(units=128, activation='relu')(x)\n",
    "output = Dense(units=1, activation='sigmoid')(x)\n",
    "model = Model(input, output)"
   ]
  },
  {
   "cell_type": "markdown",
   "metadata": {},
   "source": [
    "入力(`Input`)をモジュールに順々に適用していき、\n",
    "```python\n",
    "x = Dense()(x)\n",
    "```\n",
    "最終的な出力(`output`)とはじめの入力を使って`Model`クラスを定義する、という流れになっています。\n",
    "\n",
    "`Functional API`でskip connectionを実装すると、以下のようになります。"
   ]
  },
  {
   "cell_type": "code",
   "execution_count": null,
   "metadata": {},
   "outputs": [],
   "source": [
    "from tensorflow.keras import Input, Model\n",
    "from tensorflow.keras.layers import Add\n",
    "input = Input(shape=(2,))\n",
    "x = Dense(units=128, activation='relu')(input)\n",
    "z = Dense(units=128, activation='relu')(x)\n",
    "x = Add()([x, z])\n",
    "z = Dense(units=128, activation='relu')(x)\n",
    "x = Add()([x, z])\n",
    "output = Dense(units=1, activation='sigmoid')(x)\n",
    "model = Model(input, output)\n",
    "\n",
    "from tensorflow.keras.utils import plot_model\n",
    "plot_model(model, to_file='model.png', show_shapes=True)"
   ]
  },
  {
   "cell_type": "markdown",
   "metadata": {},
   "source": [
    "Kerasモデルを定義する方法として、`Model`クラスのサブクラスを作る方法もあります。\n",
    "`Model`クラスをカスタマイズすることができるので、特殊な学習をさせたいときなど、高度な深層学習モデルを扱うときに使われることもあります。"
   ]
  },
  {
   "cell_type": "code",
   "execution_count": null,
   "metadata": {},
   "outputs": [],
   "source": [
    "# Modelクラスを継承して新しいクラスを作成します\n",
    "from tensorflow.keras import Model\n",
    "class myModel(Model):\n",
    "    def __init__(self):\n",
    "        super().__init__()\n",
    "        self.dense_1 = Dense(units=128, activation='relu')\n",
    "        self.dense_2 = Dense(units=128, activation='relu')\n",
    "        self.dense_3 = Dense(units=128, activation='relu')\n",
    "        self.dense_4 = Dense(units=128, activation='relu')\n",
    "        self.dense_5 = Dense(units=128, activation='relu')\n",
    "        self.dense_6 = Dense(units=1, activation='sigmoid')\n",
    "\n",
    "    def call(self, inputs):\n",
    "        x = self.dense_1(inputs)\n",
    "        x = self.dense_2(x)\n",
    "        x = self.dense_3(x)\n",
    "        x = self.dense_4(x)\n",
    "        x = self.dense_5(x)\n",
    "        x = self.dense_6(x)\n",
    "        return x\n",
    "\n",
    "model = myModel()\n"
   ]
  }
 ],
 "metadata": {
  "kernelspec": {
   "display_name": "deeplearning",
   "language": "python",
   "name": "deeplearning"
  },
  "language_info": {
   "codemirror_mode": {
    "name": "ipython",
    "version": 3
   },
   "file_extension": ".py",
   "mimetype": "text/x-python",
   "name": "python",
   "nbconvert_exporter": "python",
   "pygments_lexer": "ipython3",
   "version": "3.11.9"
  },
  "vscode": {
   "interpreter": {
    "hash": "f5ee84ca7cc839add57a1456079373a6ef1d5daac4f4be388eaa02049720b4e1"
   }
  }
 },
 "nbformat": 4,
 "nbformat_minor": 4
}
