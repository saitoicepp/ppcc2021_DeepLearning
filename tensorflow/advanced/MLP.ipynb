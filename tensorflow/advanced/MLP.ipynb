{
 "cells": [
  {
   "cell_type": "code",
   "execution_count": null,
   "metadata": {},
   "outputs": [],
   "source": [
    "# Tensorflowが使うCPUの数を制限します。(VMを使う場合)\n",
    "%env OMP_NUM_THREADS=1\n",
    "%env TF_NUM_INTEROP_THREADS=1\n",
    "%env TF_NUM_INTRAOP_THREADS=1\n",
    "\n",
    "from tensorflow.config import threading\n",
    "num_threads = 1\n",
    "threading.set_inter_op_parallelism_threads(num_threads)\n",
    "threading.set_intra_op_parallelism_threads(num_threads)\n",
    "\n",
    "#ライブラリのインポート\n",
    "%matplotlib inline\n",
    "import numpy as np\n",
    "import matplotlib.pyplot as plt\n",
    "import utils"
   ]
  },
  {
   "cell_type": "markdown",
   "metadata": {},
   "source": [
    "## MLP モデルのKerasによる実装\n",
    "基礎編で使った2次元データを基に、MLPモデルをTensorflow/Kerasで書いてみます。\n",
    "中間層が2層(隠れ層のノード数がそれぞれ3、1)のMLPを構成します。"
   ]
  },
  {
   "cell_type": "code",
   "execution_count": null,
   "metadata": {},
   "outputs": [],
   "source": [
    "from tensorflow.keras.models import Sequential\n",
    "from tensorflow.keras.layers import Input, Dense\n",
    "from tensorflow.keras.optimizers import SGD\n",
    "\n",
    "# データ点の取得\n",
    "x, t = utils.dataset_for_mlp()\n",
    "\n",
    "# モデルの定義\n",
    "model = Sequential(\n",
    "    [\n",
    "        Input(shape=(2,)),\n",
    "        Dense(units=3, activation=\"sigmoid\"),  # ノード数が3の層を追加。活性化関数はシグモイド関数。\n",
    "        Dense(units=1, activation=\"sigmoid\"),  # ノード数が1の層を追加。活性化関数はシグモイド関数。\n",
    "    ]\n",
    ")\n",
    "\n",
    "#  誤差関数としてクロスエントロピーを指定。最適化手法は(確率的)勾配降下法\n",
    "model.compile(loss=\"binary_crossentropy\", optimizer=SGD(learning_rate=1.0))\n",
    "\n",
    "#  トレーニング\n",
    "model.fit(\n",
    "    x=x,\n",
    "    y=t,\n",
    "    batch_size=len(x),  # バッチサイズ。一回のステップで全てのデータを使うようにする。\n",
    "    epochs=3000,  # 学習のステップ数\n",
    "    verbose=0,  # 1とするとステップ毎に誤差関数の値などが表示される\n",
    ")\n",
    "\n",
    "# Figureの作成 (キャンバスの作成)\n",
    "fig, ax = plt.subplots()\n",
    "\n",
    "# パーセプトロンの出力を等高線プロット\n",
    "utils.plot_prediction(model, ax=ax)\n",
    "\n",
    "# データ点をプロット\n",
    "utils.plot_datapoint(x, t, ax=ax)\n",
    "\n",
    "# 図を表示\n",
    "plt.show()"
   ]
  },
  {
   "cell_type": "markdown",
   "metadata": {},
   "source": [
    "`Dense` は1層の隠れ層を作成する関数です。\n",
    "`Dense`の詳細は[公式のドキュメント](https://www.tensorflow.org/api_docs/python/tf/keras/layers/Dense)を参照することでわかります。\n",
    "ドキュメントを見ると、\n",
    "```python\n",
    "tf.keras.layers.Dense(\n",
    "    units, activation=None, use_bias=True,\n",
    "    kernel_initializer='glorot_uniform',\n",
    "    bias_initializer='zeros', kernel_regularizer=None,\n",
    "    bias_regularizer=None, activity_regularizer=None, kernel_constraint=None,\n",
    "    bias_constraint=None, **kwargs\n",
    ")\n",
    "```\n",
    "のような引数を持つことがわかります。また、各引数の意味は、\n",
    "* `units`:\tPositive integer, dimensionality of the output space.\n",
    "* `activation`:\tActivation function to use. If you don't specify anything, no activation is applied (ie. \"linear\" activation: a(x) = x).\n",
    "* `use_bias`:\tBoolean, whether the layer uses a bias vector.\n",
    "* `kernel_initializer`:\tInitializer for the kernel weights matrix.\n",
    "* `bias_initializer`:\tInitializer for the bias vector.\n",
    "* `kernel_regularizer`:\tRegularizer function applied to the kernel weights matrix.\n",
    "* `bias_regularizer`:\tRegularizer function applied to the bias vector.\n",
    "* `activity_regularizer`:\tRegularizer function applied to the output of the layer (its \"activation\").\n",
    "* `kernel_constraint`:\tConstraint function applied to the kernel weights matrix.\n",
    "* `bias_constraint`:\tConstraint function applied to the bias vector.\n",
    "\n",
    "のようになっています。隠れ層のノード数、重みの初期化方法、正規化方法、制約方法などを指定できることがわかります。\n",
    "知らない関数を使うときは、必ずドキュメントを読んで、関数の入出力、引数、デフォルトの値などを確認するようにしましょう。\n",
    "例えばこのDense関数は\n",
    "```python\n",
    "Dense(units=10)\n",
    "```\n",
    "のように、`units`(ノード数)だけを指定すれば動作しますが、その場合、暗に活性化関数は適用されず、重みの初期化は`glorot_uniform`で行われます。"
   ]
  },
  {
   "cell_type": "markdown",
   "metadata": {},
   "source": [
    "Keras Model (上の例では`model`)は`summary`関数を使用することで、その構成が確認できます。"
   ]
  },
  {
   "cell_type": "code",
   "execution_count": null,
   "metadata": {},
   "outputs": [],
   "source": [
    "model.summary()"
   ]
  },
  {
   "cell_type": "markdown",
   "metadata": {},
   "source": [
    "このモデルは、１層目の隠れ層の出力が3, 学習可能なパラメータ数が9, 2層目の隠れ層の出力が1, 学習可能なパラメータ数が4 であることがわかります。\"Output Shape\"の0要素目は\"None\"となっていますが、これはサイズが未確定であることを表しています。これは後ほどバッチサイズ用の次元になります。"
   ]
  },
  {
   "cell_type": "markdown",
   "metadata": {},
   "source": [
    "モデルの構成図を作ってくれる便利なAPIも存在します。"
   ]
  },
  {
   "cell_type": "code",
   "execution_count": null,
   "metadata": {},
   "outputs": [],
   "source": [
    "from tensorflow.keras.utils import plot_model\n",
    "plot_model(model, to_file='model.png', show_shapes=True)"
   ]
  },
  {
   "cell_type": "markdown",
   "metadata": {},
   "source": [
    "層の数を増やしてみましょう。新たな層を重ねることで層の数を増やすことができます。"
   ]
  },
  {
   "cell_type": "code",
   "execution_count": null,
   "metadata": {},
   "outputs": [],
   "source": [
    "model = Sequential([\n",
    "    Input(shape=(2,)),\n",
    "    Dense(units=3, activation='sigmoid'),  # ノード数が3の層を追加。活性化関数はシグモイド関数。\n",
    "    Dense(units=3, activation='sigmoid'),  # ノード数が3の層を追加。活性化関数はシグモイド関数。\n",
    "    Dense(units=3, activation='sigmoid'),  # ノード数が3の層を追加。活性化関数はシグモイド関数。\n",
    "    Dense(units=3, activation='sigmoid'),  # ノード数が3の層を追加。活性化関数はシグモイド関数。\n",
    "    Dense(units=3, activation='sigmoid'),  # ノード数が3の層を追加。活性化関数はシグモイド関数。\n",
    "    Dense(units=1, activation='sigmoid')  # ノード数が1の層を追加。活性化関数はシグモイド関数。\n",
    "])\n",
    "\n",
    "model.summary()"
   ]
  },
  {
   "cell_type": "markdown",
   "metadata": {},
   "source": [
    "モデルのパラメータの数が増えていることがわかります。\n",
    "\n",
    "次に、ノードの数を増やしてみましょう。"
   ]
  },
  {
   "cell_type": "code",
   "execution_count": null,
   "metadata": {},
   "outputs": [],
   "source": [
    "model = Sequential([\n",
    "    Input(shape=(2,)),\n",
    "    Dense(units=128, activation='sigmoid'),  # ノード数が3の層を追加。活性化関数はシグモイド関数。\n",
    "    Dense(units=128, activation='sigmoid'),  # ノード数が128の層を追加。活性化関数はシグモイド関数。\n",
    "    Dense(units=128, activation='sigmoid'),  # ノード数が128の層を追加。活性化関数はシグモイド関数。\n",
    "    Dense(units=128, activation='sigmoid'),  # ノード数が128の層を追加。活性化関数はシグモイド関数。\n",
    "    Dense(units=128, activation='sigmoid'),  # ノード数が128の層を追加。活性化関数はシグモイド関数。\n",
    "    Dense(units=1, activation='sigmoid')  # ノード数が1の層を追加。活性化関数はシグモイド関数。\n",
    "])\n",
    "\n",
    "model.summary()"
   ]
  },
  {
   "cell_type": "markdown",
   "metadata": {},
   "source": [
    "パラメータの数が大きく増えたことがわかります。\n",
    "MLPにおいては、パラメータの数は、ノード数の2乗で増加します。"
   ]
  },
  {
   "cell_type": "markdown",
   "metadata": {},
   "source": [
    "このモデルを使って学習させてみましょう。"
   ]
  },
  {
   "cell_type": "code",
   "execution_count": null,
   "metadata": {},
   "outputs": [],
   "source": [
    "# 誤差関数としてクロスエントロピーを指定。最適化手法は(確率的)勾配降下法\n",
    "model.compile(loss=\"binary_crossentropy\", optimizer=SGD(learning_rate=0.01))\n",
    "\n",
    "# トレーニング\n",
    "model.fit(\n",
    "    x=x,\n",
    "    y=t,\n",
    "    batch_size=len(x),  # バッチサイズ。一回のステップで全てのデータを使うようにする。\n",
    "    epochs=3000,  # 学習のステップ数\n",
    "    verbose=0,  # 1とするとステップ毎に誤差関数の値などが表示される\n",
    ")\n",
    "\n",
    "# Figureの作成 (キャンバスの作成)\n",
    "fig, ax = plt.subplots()\n",
    "\n",
    "# パーセプトロンの出力を等高線プロット\n",
    "utils.plot_prediction(model, ax=ax)\n",
    "\n",
    "# データ点をプロット\n",
    "utils.plot_datapoint(x, t, ax=ax)\n",
    "\n",
    "# 図を表示\n",
    "plt.show()"
   ]
  },
  {
   "cell_type": "markdown",
   "metadata": {},
   "source": [
    "これまでは活性化関数としてシグモイド関数(`sigmoid`)を使っていました。以前はsigmoid関数やtanh関数がよく使われていましたが、最近はReLU関数がよく使われます。\n",
    "$$\n",
    "  ReLU = \\begin{cases}\n",
    "    x & (x \\geq 0) \\\\\n",
    "    0 & (x < 0)\n",
    "  \\end{cases}\n",
    "$$\n",
    "\n",
    "ReLUが好まれる理由については、別のnotebook(ActivationFunction.ipynb)を参照してください。\n",
    "\n",
    "ReLUを使って学習がどのようになるか確認してみましょう。"
   ]
  },
  {
   "cell_type": "code",
   "execution_count": null,
   "metadata": {},
   "outputs": [],
   "source": [
    "from tensorflow.keras.models import Sequential\n",
    "from tensorflow.keras.layers import Dense\n",
    "from tensorflow.keras.optimizers import SGD\n",
    "\n",
    "# データ点の取得\n",
    "x, t = utils.dataset_for_mlp()\n",
    "\n",
    "# モデルの定義\n",
    "model = Sequential(\n",
    "    [\n",
    "        Input(shape=(2,)),\n",
    "        Dense(units=128, activation=\"relu\"),  # ノード数が3の層を追加。活性化関数はReLU。\n",
    "        Dense(units=128, activation=\"relu\"),  # ノード数が128の層を追加。活性化関数はReLU。\n",
    "        Dense(units=128, activation=\"relu\"),  # ノード数が128の層を追加。活性化関数はReLU。\n",
    "        Dense(units=128, activation=\"relu\"),  # ノード数が128の層を追加。活性化関数はReLU。\n",
    "        Dense(units=128, activation=\"relu\"),  # ノード数が128の層を追加。活性化関数はReLU。\n",
    "        Dense(units=1, activation=\"sigmoid\"),  # ノード数が1の層を追加。活性化関数はシグモイド関数。\n",
    "    ]\n",
    ")\n",
    "\n",
    "# 誤差関数としてクロスエントロピーを指定。最適化手法は(確率的)勾配降下法\n",
    "model.compile(loss=\"binary_crossentropy\", optimizer=SGD(learning_rate=0.01))\n",
    "\n",
    "# トレーニング\n",
    "model.fit(\n",
    "    x=x,\n",
    "    y=t,\n",
    "    batch_size=len(x),  # バッチサイズ。一回のステップで全てのデータを使うようにする。\n",
    "    epochs=3000,  # 学習のステップ数\n",
    "    verbose=0,  # 1とするとステップ毎に誤差関数の値などが表示される\n",
    ")\n",
    "\n",
    "# Figureの作成 (キャンバスの作成)\n",
    "fig, ax = plt.subplots()\n",
    "\n",
    "# パーセプトロンの出力を等高線プロット\n",
    "utils.plot_prediction(model, ax=ax)\n",
    "\n",
    "# データ点をプロット\n",
    "utils.plot_datapoint(x, t, ax=ax)\n",
    "\n",
    "# 図を表示\n",
    "plt.show()"
   ]
  },
  {
   "cell_type": "markdown",
   "metadata": {},
   "source": [
    "深層学習をトレーニングするにあたって、最適化関数(optimizer)も非常に重要な要素です。\n",
    "確率的勾配降下法(SGD)の他によく使われるアルゴリズムとして adam があります。\n",
    "adamを使ってみると、どのようになるでしょうか。"
   ]
  },
  {
   "cell_type": "code",
   "execution_count": null,
   "metadata": {},
   "outputs": [],
   "source": [
    "from tensorflow.keras.models import Sequential\n",
    "from tensorflow.keras.layers import Dense\n",
    "\n",
    "# データ点の取得\n",
    "x, t = utils.dataset_for_mlp()\n",
    "\n",
    "# モデルの定義\n",
    "model = Sequential(\n",
    "    [\n",
    "        Input(shape=(2,)),\n",
    "        Dense(units=128, activation=\"relu\"),  # ノード数が3の層を追加。活性化関数はReLU。\n",
    "        Dense(units=128, activation=\"relu\"),  # ノード数が128の層を追加。活性化関数はReLU。\n",
    "        Dense(units=128, activation=\"relu\"),  # ノード数が128の層を追加。活性化関数はReLU。\n",
    "        Dense(units=128, activation=\"relu\"),  # ノード数が128の層を追加。活性化関数はReLU。\n",
    "        Dense(units=128, activation=\"relu\"),  # ノード数が128の層を追加。活性化関数はReLU。\n",
    "        Dense(units=1, activation=\"sigmoid\"),  # ノード数が1の層を追加。活性化関数はシグモイド関数。\n",
    "    ]\n",
    ")\n",
    "\n",
    "#  誤差関数としてクロスエントロピーを指定。最適化手法は(確率的)勾配降下法\n",
    "model.compile(loss=\"binary_crossentropy\", optimizer=\"adam\")\n",
    "\n",
    "#  トレーニング\n",
    "model.fit(\n",
    "    x=x,\n",
    "    y=t,\n",
    "    batch_size=len(x),  # バッチサイズ。一回のステップで全てのデータを使うようにする。\n",
    "    epochs=3000,  # 学習のステップ数\n",
    "    verbose=0,  # 1とするとステップ毎に誤差関数の値などが表示される\n",
    ")\n",
    "\n",
    "# Figureの作成 (キャンバスの作成)\n",
    "fig, ax = plt.subplots()\n",
    "\n",
    "# パーセプトロンの出力を等高線プロット\n",
    "utils.plot_prediction(model, ax=ax)\n",
    "\n",
    "# データ点をプロット\n",
    "utils.plot_datapoint(x, t, ax=ax)\n",
    "\n",
    "# 図を表示\n",
    "plt.show()"
   ]
  },
  {
   "cell_type": "markdown",
   "metadata": {},
   "source": [
    "## Keras モデルの定義方法\n",
    "Kerasモデルを定義する方法はいくつかあります。\n",
    "最も簡単なのが`Sequential`を使った方法で、これまでの例では全てこの方法でモデルを定義してきました。\n",
    "一方で、少し複雑なモデルを考えると、`Sequential`モデルで対応できなくなってきます。\n",
    "一例としてResidual Network(ResNet)で使われるskip connectionを考えてみます。\n",
    "skip connectionは\n",
    "$$\n",
    "y = f_2(x + f_1(x))\n",
    "$$\n",
    "のように、入力を２つの経路に分け、片方はMLP、もう片方はそのまま後ろのレイヤーに接続します。\n",
    "このようなモデルは、途中入出力の分岐があるため、`Sequential`モデルでは実装できません。\n",
    "`Function API`を使うとこれを実装することができます。\n",
    "\n",
    "`Functional API`では以下のようにしてモデルを定義します。"
   ]
  },
  {
   "cell_type": "code",
   "execution_count": null,
   "metadata": {},
   "outputs": [],
   "source": [
    "from tensorflow.keras import Input, Model\n",
    "\n",
    "input = Input(shape=(2,))\n",
    "x = Dense(units=128, activation=\"relu\")(input)\n",
    "x = Dense(units=128, activation=\"relu\")(x)\n",
    "x = Dense(units=128, activation=\"relu\")(x)\n",
    "x = Dense(units=128, activation=\"relu\")(x)\n",
    "x = Dense(units=128, activation=\"relu\")(x)\n",
    "output = Dense(units=1, activation=\"sigmoid\")(x)\n",
    "model = Model(input, output)"
   ]
  },
  {
   "cell_type": "markdown",
   "metadata": {},
   "source": [
    "入力(`Input`)を\n",
    "```python\n",
    "x = Dense()(x)\n",
    "```\n",
    "のようにしてモジュールに順々に適用していき、\n",
    "最終的な出力(`output`)とはじめの入力を使って`Model`クラスを定義する、という流れになっています。\n",
    "\n",
    "`Functional API`でskip connectionを実装すると、以下のようになります。"
   ]
  },
  {
   "cell_type": "code",
   "execution_count": null,
   "metadata": {},
   "outputs": [],
   "source": [
    "from tensorflow.keras import Input, Model\n",
    "from tensorflow.keras.layers import Add\n",
    "\n",
    "input = Input(shape=(2,))\n",
    "x = Dense(units=128, activation=\"relu\")(input)\n",
    "z = Dense(units=128, activation=\"relu\")(x)\n",
    "x = Add()([x, z])\n",
    "z = Dense(units=128, activation=\"relu\")(x)\n",
    "x = Add()([x, z])\n",
    "output = Dense(units=1, activation=\"sigmoid\")(x)\n",
    "model = Model(input, output)\n",
    "\n",
    "from tensorflow.keras.utils import plot_model\n",
    "\n",
    "plot_model(model, to_file=\"model.png\", show_shapes=True)"
   ]
  },
  {
   "cell_type": "markdown",
   "metadata": {},
   "source": [
    "Kerasモデルを定義する方法として、`Model`クラスのサブクラスを作る方法もあります。\n",
    "`Model`クラスをカスタマイズすることができるので、特殊な学習をさせたいときなど、高度な深層学習モデルを扱うときに使われることもあります。"
   ]
  },
  {
   "cell_type": "code",
   "execution_count": null,
   "metadata": {},
   "outputs": [],
   "source": [
    "# Modelクラスを継承して新しいクラスを作成します\n",
    "from tensorflow.keras import Model\n",
    "\n",
    "\n",
    "class myModel(Model):\n",
    "    def __init__(self):\n",
    "        super().__init__()\n",
    "        self.dense_1 = Dense(units=128, activation=\"relu\")\n",
    "        self.dense_2 = Dense(units=128, activation=\"relu\")\n",
    "        self.dense_3 = Dense(units=128, activation=\"relu\")\n",
    "        self.dense_4 = Dense(units=128, activation=\"relu\")\n",
    "        self.dense_5 = Dense(units=128, activation=\"relu\")\n",
    "        self.dense_6 = Dense(units=1, activation=\"sigmoid\")\n",
    "\n",
    "    def call(self, inputs):\n",
    "        x = self.dense_1(inputs)\n",
    "        x = self.dense_2(x)\n",
    "        x = self.dense_3(x)\n",
    "        x = self.dense_4(x)\n",
    "        x = self.dense_5(x)\n",
    "        x = self.dense_6(x)\n",
    "        return x\n",
    "\n",
    "\n",
    "model = myModel()"
   ]
  }
 ],
 "metadata": {
  "kernelspec": {
   "display_name": "deeplearning",
   "language": "python",
   "name": "deeplearning"
  },
  "language_info": {
   "codemirror_mode": {
    "name": "ipython",
    "version": 3
   },
   "file_extension": ".py",
   "mimetype": "text/x-python",
   "name": "python",
   "nbconvert_exporter": "python",
   "pygments_lexer": "ipython3",
   "version": "3.11.9"
  }
 },
 "nbformat": 4,
 "nbformat_minor": 4
}
