{
 "cells": [
  {
   "cell_type": "code",
   "execution_count": null,
   "metadata": {
    "tags": []
   },
   "outputs": [],
   "source": [
    "# Tensorflowが使うCPUの数を制限します。(VMを使う場合)\n",
    "%env OMP_NUM_THREADS=1\n",
    "%env TF_NUM_INTEROP_THREADS=1\n",
    "%env TF_NUM_INTRAOP_THREADS=1\n",
    "\n",
    "from tensorflow.config import threading\n",
    "num_threads = 1\n",
    "threading.set_inter_op_parallelism_threads(num_threads)\n",
    "threading.set_intra_op_parallelism_threads(num_threads)\n",
    "\n",
    "#ライブラリのインポート\n",
    "%matplotlib inline\n",
    "import numpy as np\n",
    "import matplotlib.pyplot as plt"
   ]
  },
  {
   "cell_type": "markdown",
   "metadata": {},
   "source": [
    "## ミニバッチ法のKerasによる実装\n",
    "Tensorflow/KerasではMinibatch法が簡単に使えるようようになっています。\n",
    "基礎編で使った2次元データとMLPモデルを例に実験します。"
   ]
  },
  {
   "cell_type": "code",
   "execution_count": null,
   "metadata": {
    "tags": []
   },
   "outputs": [],
   "source": [
    "# 二次元ガウス分布と一様分布\n",
    "def get_dataset_2():\n",
    "    from numpy.random import default_rng\n",
    "    rng = default_rng(seed=0)  # 今回はデータセットの乱数を固定させます。\n",
    "\n",
    "    num_signal = 100  # 生成するシグナルイベントの数\n",
    "    num_background = 1000  # 生成するバックグラウンドイベントの数\n",
    "\n",
    "    # データ点の生成\n",
    "    ## 平均(x1,x2) = (1.0, 0.0)、分散=1の２次元ガウス分布\n",
    "    x_sig = rng.multivariate_normal(mean=[1.0, 0],\n",
    "                                    cov=[[1, 0], [0, 1]],\n",
    "                                    size=num_signal)\n",
    "    t_sig = np.ones((num_signal, 1))  # Signalは1にラベリング\n",
    "\n",
    "    ## (-5, +5)の一様分布\n",
    "    x_bg = rng.uniform(low=-5, high=5, size=(num_background, 2))\n",
    "    t_bg = np.zeros((num_background, 1))  # Backgroundは0にラベリング\n",
    "\n",
    "    # 2つのラベルを持つ学習データを1つにまとめる\n",
    "    x = np.concatenate([x_sig, x_bg])\n",
    "    t = np.concatenate([t_sig, t_bg])\n",
    "\n",
    "    # データをランダムに並び替える\n",
    "    p = rng.permutation(len(x))\n",
    "    x, t = x[p], t[p]\n",
    "\n",
    "    return x, t\n",
    "\n",
    "\n",
    "# ラベル t={0,1}を持つデータ点のプロット\n",
    "def plot_datapoint(x, t):\n",
    "    # シグナル/バックグラウンドの抽出\n",
    "    xS = x[t[:, 0] == 1]  # シグナルのラベルだけを抽出\n",
    "    xB = x[t[:, 0] == 0]  # バックグラウンドのラベルだけを抽出\n",
    "\n",
    "    # プロット\n",
    "    plt.scatter(xS[:, 0], xS[:, 1], label='Signal', c='red', s=10)  # シグナルをプロット\n",
    "    plt.scatter(xB[:, 0], xB[:, 1], label='Background', c='blue', s=10)  # バックグラウンドをプロット\n",
    "    plt.xlabel('x1')  # x軸ラベルの設定\n",
    "    plt.ylabel('x2')  # y軸ラベルの設定\n",
    "    plt.legend()  # legendの表示\n",
    "    plt.show()\n",
    "\n",
    "\n",
    "# prediction関数 の等高線プロット (fill)\n",
    "def plot_prediction(prediction, *args):\n",
    "    # 等高線を描くためのメッシュの生成\n",
    "    x1, x2 = np.mgrid[-5:5:100j, -5:5:100j]  # x1 = (-5, 5), x2 = (-5, 5) の範囲で100点x100点のメッシュを作成\n",
    "    x1 = x1.flatten()  # 二次元配列を一次元配列に変換 ( shape=(100, 100) => shape(10000, ))\n",
    "    x2 = x2.flatten()  # 二次元配列を一次元配列に変換 ( shape=(100, 100) => shape(10000, ))\n",
    "    x = np.array([x1, x2]).T\n",
    "\n",
    "    #  関数predictionを使って入力xから出力yを計算し、等高線プロットを作成\n",
    "    y = prediction(x, verbose=0, *args)\n",
    "    cs = plt.tricontourf(x[:, 0], x[:, 1], y.flatten(), levels=10)\n",
    "    plt.colorbar(cs)\n"
   ]
  },
  {
   "cell_type": "code",
   "execution_count": null,
   "metadata": {
    "tags": []
   },
   "outputs": [],
   "source": [
    "# データ点の取得 (データセットのサイズは1100です。)\n",
    "x, t = get_dataset_2()\n",
    "print(\"データのサイズ\", x.shape, t.shape)"
   ]
  },
  {
   "cell_type": "markdown",
   "metadata": {},
   "source": [
    "まずは一度に全てのデータを使ってロスの計算を行うバッチ学習を試してみます。"
   ]
  },
  {
   "cell_type": "code",
   "execution_count": null,
   "metadata": {
    "tags": []
   },
   "outputs": [],
   "source": [
    "from tensorflow.keras.models import Sequential\n",
    "from tensorflow.keras.layers import Input, Dense\n",
    "\n",
    "# モデルの定義\n",
    "model = Sequential([\n",
    "    Input(shape=(2,)),\n",
    "    Dense(units=64, activation='relu'),  # ノード数が64の層を追加。活性化関数はReLU。\n",
    "    Dense(units=64, activation='relu'),  # ノード数が64の層を追加。活性化関数はReLU。\n",
    "    Dense(units=64, activation='relu'),  # ノード数が64の層を追加。活性化関数はReLU。\n",
    "    Dense(units=64, activation='relu'),  # ノード数が64の層を追加。活性化関数はReLU。\n",
    "    Dense(units=64, activation='relu'),  # ノード数が64の層を追加。活性化関数はReLU。\n",
    "    Dense(units=1, activation='sigmoid')  # ノード数が1の層を追加。活性化関数はシグモイド関数。\n",
    "])\n",
    "\n",
    "#  誤差関数としてクロスエントロピーを指定。最適化手法はadam\n",
    "model.compile(loss='binary_crossentropy', optimizer='SGD')\n",
    "\n",
    "# バッチ法によるトレーニング\n",
    "_ = model.fit(\n",
    "    x=x,\n",
    "    y=t,\n",
    "    batch_size=1100,  # バッチサイズ。一回のステップで1100行のデータ(全データ)を使うようにする。\n",
    "    epochs=1,  # 学習のステップ数\n",
    "    verbose=1,  # 1とするとステップ毎に誤差関数の値などが表示される\n",
    ")\n",
    "\n",
    "# プロット\n",
    "## パーセプトロンの出力を等高線プロット\n",
    "plot_prediction(model.predict)\n",
    "\n",
    "## データ点をプロット\n",
    "plot_datapoint(x, t)"
   ]
  },
  {
   "cell_type": "markdown",
   "metadata": {},
   "source": [
    "次に1行ずつロスを計算するオンライン学習で学習を実行します。"
   ]
  },
  {
   "cell_type": "code",
   "execution_count": null,
   "metadata": {
    "tags": []
   },
   "outputs": [],
   "source": [
    "# モデルの定義\n",
    "model = Sequential([\n",
    "    Input(shape=(2,)),\n",
    "    Dense(units=64, activation='relu'),  # ノード数が64の層を追加。活性化関数はReLU。\n",
    "    Dense(units=64, activation='relu'),  # ノード数が64の層を追加。活性化関数はReLU。\n",
    "    Dense(units=64, activation='relu'),  # ノード数が64の層を追加。活性化関数はReLU。\n",
    "    Dense(units=64, activation='relu'),  # ノード数が64の層を追加。活性化関数はReLU。\n",
    "    Dense(units=64, activation='relu'),  # ノード数が64の層を追加。活性化関数はReLU。\n",
    "    Dense(units=1, activation='sigmoid')  # ノード数が1の層を追加。活性化関数はシグモイド関数。\n",
    "])\n",
    "\n",
    "#  誤差関数としてクロスエントロピーを指定。最適化手法はadam\n",
    "model.compile(loss='binary_crossentropy', optimizer='SGD')\n",
    "\n",
    "# オンライン法によるトレーニング\n",
    "_ = model.fit(\n",
    "    x=x,\n",
    "    y=t,\n",
    "    batch_size=1,  # バッチサイズ。一回のステップで1行のデータのみを使うようにする。\n",
    "    epochs=1,  # 学習のステップ数\n",
    "    verbose=1,  # 1とするとステップ毎に誤差関数の値などが表示される\n",
    ")\n",
    "\n",
    "# プロット\n",
    "## パーセプトロンの出力を等高線プロット\n",
    "plot_prediction(model.predict)\n",
    "\n",
    "## データ点をプロット\n",
    "plot_datapoint(x, t)"
   ]
  },
  {
   "cell_type": "markdown",
   "metadata": {},
   "source": [
    "Kerasの出力するログを見比べるといくつか値が変わっています。\n",
    "\n",
    "- 左端の\"1/1\", \"1100/1100\"は重みの更新のステップ数を表しています。バッチ法では全データを一度に使って重みの更新をしているため、1エポックあたりの重みの更新回数は1回です。一方で、オンライン学習は1行ごとに更新を行うため、合計10000回重みの更新がおこなわれます。\n",
    "- 中程にある \"XXms/step\"は1回の重み更新にかかる時間を表しています。バッチ法では全データを使うため、1回の重みの更新に時間がかかります。オンライン学習では1行のみなので、1回の重み更新計算は高速です。\n",
    "- その左の \"XXs\"はトータルでかかった時間を表します。オンライン学習では1ステップあたりの時間は短いですが、1100回重みの更新をする必要があるためトータルの時間はバッチ法よりも長くかかっています。\n",
    "- 今回は全データを１回ずつ使用して(エポック数1で)学習したためバッチ法では学習が十分に進んでいません。エポック数(`fit`メソッドの中の`epochs`)を増やすことで学習をさらに進めることができます。"
   ]
  },
  {
   "cell_type": "markdown",
   "metadata": {},
   "source": [
    "次にミニバッチ法を試してみましょう。バッチサイズは10としてみます。"
   ]
  },
  {
   "cell_type": "code",
   "execution_count": null,
   "metadata": {
    "tags": []
   },
   "outputs": [],
   "source": [
    "# モデルの定義\n",
    "model = Sequential([\n",
    "    Input(shape=(2,)),\n",
    "    Dense(units=64, activation='relu'),  # ノード数が64の層を追加。活性化関数はReLU。\n",
    "    Dense(units=64, activation='relu'),  # ノード数が64の層を追加。活性化関数はReLU。\n",
    "    Dense(units=64, activation='relu'),  # ノード数が64の層を追加。活性化関数はReLU。\n",
    "    Dense(units=64, activation='relu'),  # ノード数が64の層を追加。活性化関数はReLU。\n",
    "    Dense(units=64, activation='relu'),  # ノード数が64の層を追加。活性化関数はReLU。\n",
    "    Dense(units=1, activation='sigmoid')  # ノード数が1の層を追加。活性化関数はシグモイド関数。\n",
    "])\n",
    "\n",
    "#  誤差関数としてクロスエントロピーを指定。最適化手法はadam\n",
    "model.compile(loss='binary_crossentropy', optimizer='SGD')\n",
    "\n",
    "# オンライン法によるトレーニング\n",
    "_ = model.fit(\n",
    "    x=x,\n",
    "    y=t,\n",
    "    batch_size=10,  # バッチサイズ。一回のステップで10行のデータのみを使うようにする。\n",
    "    epochs=1,  # 学習のステップ数\n",
    "    verbose=1,  # 1とするとステップ毎に誤差関数の値などが表示される\n",
    ")\n",
    "\n",
    "# プロット\n",
    "## パーセプトロンの出力を等高線プロット\n",
    "plot_prediction(model.predict)\n",
    "\n",
    "## データ点をプロット\n",
    "plot_datapoint(x, t)"
   ]
  },
  {
   "cell_type": "markdown",
   "metadata": {},
   "source": [
    "1回の重み更新で10イベントを処理するので、全体として110ステップ分処理することになりました。\n",
    "振る舞いはバッチ学習とオンライン学習の中間くらいになっています。"
   ]
  },
  {
   "cell_type": "markdown",
   "metadata": {},
   "source": [
    "今回はデータセットがシンプルだったため、オンライン学習でも問題なく学習が進みましたが、オンライン学習は学習が不安定になることが多いです。\n",
    "そのため実際の深層学習モデル学習の際は、バッチサイズが32 ~ 2048程度のミニバッチ学習を使うことが多いです。"
   ]
  }
 ],
 "metadata": {
  "kernelspec": {
   "display_name": "deeplearning",
   "language": "python",
   "name": "deeplearning"
  },
  "language_info": {
   "codemirror_mode": {
    "name": "ipython",
    "version": 3
   },
   "file_extension": ".py",
   "mimetype": "text/x-python",
   "name": "python",
   "nbconvert_exporter": "python",
   "pygments_lexer": "ipython3",
   "version": "3.11.9"
  },
  "vscode": {
   "interpreter": {
    "hash": "f5ee84ca7cc839add57a1456079373a6ef1d5daac4f4be388eaa02049720b4e1"
   }
  }
 },
 "nbformat": 4,
 "nbformat_minor": 4
}
