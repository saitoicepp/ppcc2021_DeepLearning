{
 "cells": [
  {
   "cell_type": "code",
   "execution_count": null,
   "metadata": {
    "tags": []
   },
   "outputs": [],
   "source": [
    "# Tensorflowが使うCPUの数を制限します。(VMを使う場合)\n",
    "%env OMP_NUM_THREADS=1\n",
    "%env TF_NUM_INTEROP_THREADS=1\n",
    "%env TF_NUM_INTRAOP_THREADS=1\n",
    "\n",
    "from tensorflow.config import threading\n",
    "num_threads = 1\n",
    "threading.set_inter_op_parallelism_threads(num_threads)\n",
    "threading.set_intra_op_parallelism_threads(num_threads)\n",
    "\n",
    "#ライブラリのインポート\n",
    "%matplotlib inline\n",
    "import numpy as np\n",
    "import matplotlib.pyplot as plt\n",
    "import utils"
   ]
  },
  {
   "cell_type": "markdown",
   "metadata": {},
   "source": [
    "## ミニバッチ法のKerasによる実装\n",
    "Tensorflow/KerasではMinibatch法が簡単に使えるようようになっています。\n",
    "基礎編で使った2次元データとMLPモデルを例に実験します。"
   ]
  },
  {
   "cell_type": "markdown",
   "metadata": {},
   "source": [
    "まずは一度に全てのデータを使ってロスの計算を行うバッチ学習を試してみます。"
   ]
  },
  {
   "cell_type": "code",
   "execution_count": null,
   "metadata": {
    "tags": []
   },
   "outputs": [],
   "source": [
    "from tensorflow.keras.models import Sequential\n",
    "from tensorflow.keras.layers import Input, Dense\n",
    "\n",
    "# データ点の取得 (データセットのサイズは1100です。)\n",
    "x, t = utils.dataset_for_mlp()\n",
    "\n",
    "# モデルの定義\n",
    "model = Sequential(\n",
    "    [\n",
    "        Input(shape=(2,)),\n",
    "        Dense(units=64, activation=\"relu\"),  # ノード数が64の層を追加。活性化関数はReLU。\n",
    "        Dense(units=64, activation=\"relu\"),  # ノード数が64の層を追加。活性化関数はReLU。\n",
    "        Dense(units=64, activation=\"relu\"),  # ノード数が64の層を追加。活性化関数はReLU。\n",
    "        Dense(units=64, activation=\"relu\"),  # ノード数が64の層を追加。活性化関数はReLU。\n",
    "        Dense(units=64, activation=\"relu\"),  # ノード数が64の層を追加。活性化関数はReLU。\n",
    "        Dense(units=1, activation=\"sigmoid\"),  # ノード数が1の層を追加。活性化関数はシグモイド関数。\n",
    "    ]\n",
    ")\n",
    "\n",
    "#  誤差関数としてクロスエントロピーを指定。最適化手法はadam\n",
    "model.compile(loss=\"binary_crossentropy\", optimizer=\"SGD\")\n",
    "\n",
    "# バッチ法によるトレーニング\n",
    "_ = model.fit(\n",
    "    x=x,\n",
    "    y=t,\n",
    "    batch_size=len(x),  # バッチサイズ。一回のステップで全データ(1100行のデータ)を使うようにする。\n",
    "    epochs=1,  # 学習のステップ数\n",
    "    verbose=1,  # 1とするとステップ毎に誤差関数の値などが表示される\n",
    ")\n",
    "\n",
    "# Figureの作成 (キャンバスの作成)\n",
    "fig, ax = plt.subplots()\n",
    "\n",
    "# パーセプトロンの出力を等高線プロット\n",
    "utils.plot_prediction(model, ax=ax)\n",
    "\n",
    "# データ点をプロット\n",
    "utils.plot_datapoint(x, t, ax=ax)\n",
    "\n",
    "# 図を表示\n",
    "plt.show()"
   ]
  },
  {
   "cell_type": "markdown",
   "metadata": {},
   "source": [
    "次に1行ずつロスを計算するオンライン学習で学習を実行します。"
   ]
  },
  {
   "cell_type": "code",
   "execution_count": null,
   "metadata": {
    "tags": []
   },
   "outputs": [],
   "source": [
    "# モデルの定義\n",
    "model = Sequential(\n",
    "    [\n",
    "        Input(shape=(2,)),\n",
    "        Dense(units=64, activation=\"relu\"),  # ノード数が64の層を追加。活性化関数はReLU。\n",
    "        Dense(units=64, activation=\"relu\"),  # ノード数が64の層を追加。活性化関数はReLU。\n",
    "        Dense(units=64, activation=\"relu\"),  # ノード数が64の層を追加。活性化関数はReLU。\n",
    "        Dense(units=64, activation=\"relu\"),  # ノード数が64の層を追加。活性化関数はReLU。\n",
    "        Dense(units=64, activation=\"relu\"),  # ノード数が64の層を追加。活性化関数はReLU。\n",
    "        Dense(units=1, activation=\"sigmoid\"),  # ノード数が1の層を追加。活性化関数はシグモイド関数。\n",
    "    ]\n",
    ")\n",
    "\n",
    "#  誤差関数としてクロスエントロピーを指定。最適化手法はadam\n",
    "model.compile(loss=\"binary_crossentropy\", optimizer=\"SGD\")\n",
    "\n",
    "# オンライン法によるトレーニング\n",
    "_ = model.fit(\n",
    "    x=x,\n",
    "    y=t,\n",
    "    batch_size=1,  # バッチサイズ。一回のステップで1行のデータのみを使うようにする。\n",
    "    epochs=1,  # 学習のステップ数\n",
    "    verbose=1,  # 1とするとステップ毎に誤差関数の値などが表示される\n",
    ")\n",
    "\n",
    "# Figureの作成 (キャンバスの作成)\n",
    "fig, ax = plt.subplots()\n",
    "\n",
    "# パーセプトロンの出力を等高線プロット\n",
    "utils.plot_prediction(model, ax=ax)\n",
    "\n",
    "# データ点をプロット\n",
    "utils.plot_datapoint(x, t, ax=ax)\n",
    "\n",
    "# 図を表示\n",
    "plt.show()"
   ]
  },
  {
   "cell_type": "markdown",
   "metadata": {},
   "source": [
    "Kerasの出力するログを見比べるといくつか値が変わっています。\n",
    "\n",
    "- 左端の\"1/1\", \"1100/1100\"は重みの更新のステップ数を表しています。バッチ法では全データを一度に使って重みの更新をしているため、1エポックあたりの重みの更新回数は1回です。一方で、オンライン学習は1行ごとに更新を行うため、合計1100回重みの更新がおこなわれます。\n",
    "- 中程にある \"XXms/step\"は1回の重み更新にかかる時間を表しています。バッチ法では全データを使うため、1回の重みの更新に時間がかかります。オンライン学習では1行のみなので、1回の重み更新計算は高速です。\n",
    "- その左の \"XXs\"はトータルでかかった時間を表します。オンライン学習では1ステップあたりの時間は短いですが、1100回重みの更新をする必要があるためトータルの時間はバッチ法よりも長くかかっています。\n",
    "- 今回は全データを１回ずつ使用して(エポック数1で)学習したためバッチ法では学習が十分に進んでいません。エポック数(`fit`メソッドの中の`epochs`)を増やすことで学習をさらに進めることができます。"
   ]
  },
  {
   "cell_type": "markdown",
   "metadata": {},
   "source": [
    "次にミニバッチ法を試してみましょう。バッチサイズは10としてみます。"
   ]
  },
  {
   "cell_type": "code",
   "execution_count": null,
   "metadata": {
    "tags": []
   },
   "outputs": [],
   "source": [
    "# モデルの定義\n",
    "model = Sequential(\n",
    "    [\n",
    "        Input(shape=(2,)),\n",
    "        Dense(units=64, activation=\"relu\"),  # ノード数が64の層を追加。活性化関数はReLU。\n",
    "        Dense(units=64, activation=\"relu\"),  # ノード数が64の層を追加。活性化関数はReLU。\n",
    "        Dense(units=64, activation=\"relu\"),  # ノード数が64の層を追加。活性化関数はReLU。\n",
    "        Dense(units=64, activation=\"relu\"),  # ノード数が64の層を追加。活性化関数はReLU。\n",
    "        Dense(units=64, activation=\"relu\"),  # ノード数が64の層を追加。活性化関数はReLU。\n",
    "        Dense(units=1, activation=\"sigmoid\"),  # ノード数が1の層を追加。活性化関数はシグモイド関数。\n",
    "    ]\n",
    ")\n",
    "\n",
    "#  誤差関数としてクロスエントロピーを指定。最適化手法はadam\n",
    "model.compile(loss=\"binary_crossentropy\", optimizer=\"SGD\")\n",
    "\n",
    "# オンライン法によるトレーニング\n",
    "_ = model.fit(\n",
    "    x=x,\n",
    "    y=t,\n",
    "    batch_size=10,  # バッチサイズ。一回のステップで10行のデータのみを使うようにする。\n",
    "    epochs=1,  # 学習のステップ数\n",
    "    verbose=1,  # 1とするとステップ毎に誤差関数の値などが表示される\n",
    ")\n",
    "\n",
    "# Figureの作成 (キャンバスの作成)\n",
    "fig, ax = plt.subplots()\n",
    "\n",
    "# パーセプトロンの出力を等高線プロット\n",
    "utils.plot_prediction(model, ax=ax)\n",
    "\n",
    "# データ点をプロット\n",
    "utils.plot_datapoint(x, t, ax=ax)\n",
    "\n",
    "# 図を表示\n",
    "plt.show()"
   ]
  },
  {
   "cell_type": "markdown",
   "metadata": {},
   "source": [
    "1回の重み更新で10イベントを処理するので、全体として110ステップ分処理することになりました。\n",
    "振る舞いはバッチ学習とオンライン学習の中間くらいになっています。"
   ]
  },
  {
   "cell_type": "markdown",
   "metadata": {},
   "source": [
    "今回はデータセットがシンプルだったため、オンライン学習でも問題なく学習が進みましたが、オンライン学習は学習が不安定になることが多いです。\n",
    "そのため実際の深層学習モデル学習の際は、バッチサイズが32 ~ 2048程度のミニバッチ学習を使うことが多いです。"
   ]
  }
 ],
 "metadata": {
  "kernelspec": {
   "display_name": "env",
   "language": "python",
   "name": "python3"
  },
  "language_info": {
   "codemirror_mode": {
    "name": "ipython",
    "version": 3
   },
   "file_extension": ".py",
   "mimetype": "text/x-python",
   "name": "python",
   "nbconvert_exporter": "python",
   "pygments_lexer": "ipython3",
   "version": "3.11.9"
  }
 },
 "nbformat": 4,
 "nbformat_minor": 4
}
